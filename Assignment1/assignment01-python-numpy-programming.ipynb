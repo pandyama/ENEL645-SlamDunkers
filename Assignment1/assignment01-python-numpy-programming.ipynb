{
  "cells": [
    {
      "cell_type": "markdown",
      "metadata": {
        "id": "kEyTiix22zcK"
      },
      "source": [
        "# Assignment #01\n",
        "\n",
        "This assignment is composed of multiple Python and NumPy programming exercises. The deliverable of this assignment is this jupyter-notebook completed with your solution.\n",
        "\n",
        "The delivery instructions are the following:\n",
        "    - Create a GitHub repository for your team. You are free to choose its name. This repository will be used to delvier the programming assignments and the code of your team's final project.\n",
        "    - Create a folder assignment-01 in the repository. Put the jupyter-notebook with your solution in this repository and post the repository link in your team's D2L dropbox for the assignment.\n",
        "\n",
        "You are being assessed based on:\n",
        "\n",
        "1. Code execution - 25% \n",
        "2. Clarity of the code (e.g., easy to follow, has pertinent comments, etc.) - 25%\n",
        "3. Proper usage of the techniques seen in class - 25%\n",
        "    - remember to avoid explicit Python loops!  \n",
        "4. Quality and correcteness of the results - 25%\n",
        "\n",
        "More details about the assessment are available in the rubric document in the class GitHub repository.\n",
        "\n",
        "Points distribution:\n",
        "- Question 2-21: 3 points per question \n",
        "- Questions 22-26: 8 points per question (total 40)\n",
        "- Total: 100 ponits"
      ],
      "id": "kEyTiix22zcK"
    },
    {
      "cell_type": "code",
      "execution_count": 2,
      "metadata": {
        "id": "qOjpXlmb2zcN"
      },
      "outputs": [],
      "source": [
        "import matplotlib.pylab as plt"
      ],
      "id": "qOjpXlmb2zcN"
    },
    {
      "cell_type": "markdown",
      "metadata": {
        "id": "p6cI3LOH2zcO"
      },
      "source": [
        "**1. Import the numpy package under the name np**"
      ],
      "id": "p6cI3LOH2zcO"
    },
    {
      "cell_type": "code",
      "execution_count": 3,
      "metadata": {
        "id": "coiaUU642zcP"
      },
      "outputs": [],
      "source": [
        "import numpy as np"
      ],
      "id": "coiaUU642zcP"
    },
    {
      "cell_type": "markdown",
      "metadata": {
        "id": "G345Fo262zcP"
      },
      "source": [
        "**2. Print the numpy version and the configuration** Zach"
      ],
      "id": "G345Fo262zcP"
    },
    {
      "cell_type": "code",
      "execution_count": null,
      "metadata": {
        "id": "byUz2FG92zcP"
      },
      "outputs": [],
      "source": [
        ""
      ],
      "id": "byUz2FG92zcP"
    },
    {
      "cell_type": "markdown",
      "metadata": {
        "id": "CGj19Q6M2zcQ"
      },
      "source": [
        "**3. Create a 1D array of zeros of size 10 of type float32** Greg"
      ],
      "id": "CGj19Q6M2zcQ"
    },
    {
      "cell_type": "code",
      "execution_count": null,
      "metadata": {
        "id": "blbIQRxG2zcQ"
      },
      "outputs": [],
      "source": [
        ""
      ],
      "id": "blbIQRxG2zcQ"
    },
    {
      "cell_type": "markdown",
      "metadata": {
        "id": "LLvro5_R2zcR"
      },
      "source": [
        "**4. Print the memory size of the array below** Michael"
      ],
      "id": "LLvro5_R2zcR"
    },
    {
      "cell_type": "code",
      "execution_count": null,
      "metadata": {
        "id": "OHulxdmg2zcR"
      },
      "outputs": [],
      "source": [
        "Z = np.zeros((32,12))\n",
        "# Include your solution below"
      ],
      "id": "OHulxdmg2zcR"
    },
    {
      "cell_type": "markdown",
      "metadata": {
        "id": "UoCjuPLq2zcS"
      },
      "source": [
        "**5. Create a 1D array with values ranging from 10 to 58** Meet"
      ],
      "id": "UoCjuPLq2zcS"
    },
    {
      "cell_type": "code",
      "execution_count": null,
      "metadata": {
        "colab": {
          "base_uri": "https://localhost:8080/"
        },
        "id": "tiLqiU_t2zcT",
        "outputId": "3ce90721-6e2f-4dfc-d127-2ae2ccf87ac1"
      },
      "outputs": [
        {
          "output_type": "execute_result",
          "data": {
            "text/plain": [
              "array([10, 11, 12, 13, 14, 15, 16, 17, 18, 19, 20, 21, 22, 23, 24, 25, 26,\n",
              "       27, 28, 29, 30, 31, 32, 33, 34, 35, 36, 37, 38, 39, 40, 41, 42, 43,\n",
              "       44, 45, 46, 47, 48, 49, 50, 51, 52, 53, 54, 55, 56, 57, 58])"
            ]
          },
          "metadata": {},
          "execution_count": 4
        }
      ],
      "source": [
        "np.arange(10,59)"
      ],
      "id": "tiLqiU_t2zcT"
    },
    {
      "cell_type": "markdown",
      "metadata": {
        "id": "CjsKD8uh2zcT"
      },
      "source": [
        "**6. Reverse the order of the values in the vector (first element becomes last)** Brandon"
      ],
      "id": "CjsKD8uh2zcT"
    },
    {
      "cell_type": "code",
      "execution_count": null,
      "metadata": {
        "id": "nBVpNSCC2zcT",
        "outputId": "3193215d-f3cf-4acd-c010-291d742bea31"
      },
      "outputs": [
        {
          "name": "stdout",
          "output_type": "stream",
          "text": [
            "[9 8 7 6 5 4 3 2 1 0]\n"
          ]
        }
      ],
      "source": [
        "a = np.arange(10)\n",
        "# Include your solution below\n",
        "# Uses a negative step to reverse the order\n",
        "a = a[::-1]\n",
        "print(a)"
      ],
      "id": "nBVpNSCC2zcT"
    },
    {
      "cell_type": "markdown",
      "metadata": {
        "id": "eHO-Ji302zcU"
      },
      "source": [
        "**7. Create a 3x3 matrix with values ranging from 0 to 8** Zach"
      ],
      "id": "eHO-Ji302zcU"
    },
    {
      "cell_type": "code",
      "execution_count": null,
      "metadata": {
        "id": "wx3caGm82zcV"
      },
      "outputs": [],
      "source": [
        ""
      ],
      "id": "wx3caGm82zcV"
    },
    {
      "cell_type": "markdown",
      "metadata": {
        "id": "fiM0q_ZO2zcV"
      },
      "source": [
        "**8. Create a 3x3 identity matrix** Greg"
      ],
      "id": "fiM0q_ZO2zcV"
    },
    {
      "cell_type": "code",
      "execution_count": null,
      "metadata": {
        "id": "B0Z-D8d72zcV"
      },
      "outputs": [],
      "source": [
        ""
      ],
      "id": "B0Z-D8d72zcV"
    },
    {
      "cell_type": "markdown",
      "metadata": {
        "id": "6DMD9Mny2zcV"
      },
      "source": [
        "**9. Find and print the maximum values of each column in the array below** Michael"
      ],
      "id": "6DMD9Mny2zcV"
    },
    {
      "cell_type": "code",
      "execution_count": null,
      "metadata": {
        "id": "Cdje-1W52zcW"
      },
      "outputs": [],
      "source": [
        "Z = np.random.random((10,11))\n",
        "# Include your solution below"
      ],
      "id": "Cdje-1W52zcW"
    },
    {
      "cell_type": "code",
      "execution_count": null,
      "metadata": {
        "id": "YdGerD3z2zcW"
      },
      "outputs": [],
      "source": [
        ""
      ],
      "id": "YdGerD3z2zcW"
    },
    {
      "cell_type": "markdown",
      "metadata": {
        "id": "TeuTtwK82zcX"
      },
      "source": [
        "**10. Create a $7 \\times 7$ array with 1s on the borders (first row and column, last row and columns) and 0s everywhere else** Meet"
      ],
      "id": "TeuTtwK82zcX"
    },
    {
      "cell_type": "code",
      "execution_count": null,
      "metadata": {
        "colab": {
          "base_uri": "https://localhost:8080/"
        },
        "id": "Ij1QfiW_2zcX",
        "outputId": "c851330b-67b9-4f8e-fb52-6f473a0920fa"
      },
      "outputs": [
        {
          "output_type": "stream",
          "name": "stdout",
          "text": [
            "[[1. 1. 1. 1. 1. 1. 1.]\n",
            " [1. 0. 0. 0. 0. 0. 1.]\n",
            " [1. 0. 0. 0. 0. 0. 1.]\n",
            " [1. 0. 0. 0. 0. 0. 1.]\n",
            " [1. 0. 0. 0. 0. 0. 1.]\n",
            " [1. 0. 0. 0. 0. 0. 1.]\n",
            " [1. 1. 1. 1. 1. 1. 1.]]\n"
          ]
        }
      ],
      "source": [
        "x = np.ones((7,7))\n",
        "x[1:-1,1:-1] = 0\n",
        "print(x)"
      ],
      "id": "Ij1QfiW_2zcX"
    },
    {
      "cell_type": "markdown",
      "metadata": {
        "id": "JS-HOhWv2zcX"
      },
      "source": [
        "**11. Pad the existing array below with zeros (i.e., add additional rows and columns with zeros). Use the NumPy pad function.** Brandon"
      ],
      "id": "JS-HOhWv2zcX"
    },
    {
      "cell_type": "code",
      "execution_count": null,
      "metadata": {
        "id": "sJWRz6Eu2zcX",
        "outputId": "c51f6c27-6aef-40a4-bdae-975afe13c22c"
      },
      "outputs": [
        {
          "name": "stdout",
          "output_type": "stream",
          "text": [
            "[[0. 0. 0. 0. 0. 0. 0.]\n",
            " [0. 1. 1. 1. 1. 1. 0.]\n",
            " [0. 1. 1. 1. 1. 1. 0.]\n",
            " [0. 1. 1. 1. 1. 1. 0.]\n",
            " [0. 1. 1. 1. 1. 1. 0.]\n",
            " [0. 1. 1. 1. 1. 1. 0.]\n",
            " [0. 0. 0. 0. 0. 0. 0.]]\n"
          ]
        }
      ],
      "source": [
        "Z = np.ones((5,5))\n",
        "# Include your solution below\n",
        "# Uses np.pad to add additional rows and columns\n",
        "Z = np.pad(Z, (1,1))\n",
        "print(Z)"
      ],
      "id": "sJWRz6Eu2zcX"
    },
    {
      "cell_type": "markdown",
      "metadata": {
        "id": "vNp3fkv22zcY"
      },
      "source": [
        "**12. Extract the integer part of the random array of positive numbers below** Zach"
      ],
      "id": "vNp3fkv22zcY"
    },
    {
      "cell_type": "code",
      "execution_count": null,
      "metadata": {
        "id": "Lk6B9TGt2zcY"
      },
      "outputs": [],
      "source": [
        "Z = np.random.uniform(0,10,10)\n",
        "# Include your solution below"
      ],
      "id": "Lk6B9TGt2zcY"
    },
    {
      "cell_type": "markdown",
      "metadata": {
        "id": "siWKx2T-2zcY"
      },
      "source": [
        "**13. Create a 5x5 matrix with rows with equal values ranging from 0 to 4 (i.e., [0,1,2,3,4])** Greg\n",
        "\n",
        "*Hint:* consider using NumPy broadcasting or the tile function*"
      ],
      "id": "siWKx2T-2zcY"
    },
    {
      "cell_type": "code",
      "execution_count": null,
      "metadata": {
        "id": "Bb3wkt2s2zcZ"
      },
      "outputs": [],
      "source": [
        ""
      ],
      "id": "Bb3wkt2s2zcZ"
    },
    {
      "cell_type": "markdown",
      "metadata": {
        "id": "PZldScL52zcZ"
      },
      "source": [
        "**14. Create a vector of size 10 with values ranging from 0 to 1 (0 and 1 not included)** Michael\n",
        "\n",
        "*Hint: Consider using the linspace function*"
      ],
      "id": "PZldScL52zcZ"
    },
    {
      "cell_type": "code",
      "execution_count": null,
      "metadata": {
        "id": "tFaAmg0X2zcZ"
      },
      "outputs": [],
      "source": [
        ""
      ],
      "id": "tFaAmg0X2zcZ"
    },
    {
      "cell_type": "markdown",
      "metadata": {
        "id": "BqI_4fVw2zcZ"
      },
      "source": [
        "**15. Create a random vector of size 10 and sort it** Meet"
      ],
      "id": "BqI_4fVw2zcZ"
    },
    {
      "cell_type": "code",
      "execution_count": null,
      "metadata": {
        "colab": {
          "base_uri": "https://localhost:8080/"
        },
        "id": "4LxjrTxo2zcZ",
        "outputId": "dd42e875-1829-4d44-dc93-45f3e46af53a"
      },
      "outputs": [
        {
          "output_type": "stream",
          "name": "stdout",
          "text": [
            "[0 0 4 5 6 6 7 7 7 7]\n"
          ]
        }
      ],
      "source": [
        "vector = np.random.randint(10,size=10)\n",
        "X = np.sort(vector)\n",
        "print(X)"
      ],
      "id": "4LxjrTxo2zcZ"
    },
    {
      "cell_type": "markdown",
      "metadata": {
        "id": "Ya-RNHDz2zca"
      },
      "source": [
        "**16. Consider the cartesian coordinates below (X and Y), convert them to polar coordinates (R and T)** Brandon"
      ],
      "id": "Ya-RNHDz2zca"
    },
    {
      "cell_type": "code",
      "execution_count": null,
      "metadata": {
        "id": "ufrD4PJn2zca",
        "outputId": "5bd612aa-d25d-4b11-9dd5-11f4b48df7cd"
      },
      "outputs": [
        {
          "name": "stdout",
          "output_type": "stream",
          "text": [
            "X-array:  [0.03257897 0.23893606 0.85867206 0.37486254 0.18049818 0.09359002\n",
            " 0.84455466 0.55460672 0.89200748 0.52289275]\n",
            "Y-array:  [0.49436396 0.07306858 0.25759516 0.34227566 0.57572303 0.36858587\n",
            " 0.61139615 0.39258568 0.9086864  0.97182435]\n",
            "R-array:  [0.49543628 0.24985888 0.8964781  0.50761654 0.60335446 0.38028231\n",
            " 1.04263024 0.67949402 1.27333748 1.10356667]\n",
            "T-array:  [1.5049907  0.29677674 0.2914499  0.73998923 1.26698644 1.32213499\n",
            " 0.62660469 0.6159838  0.79466039 1.07717193]\n"
          ]
        }
      ],
      "source": [
        "Z = np.random.random((10,2))\n",
        "X,Y = Z[:,0], Z[:,1]\n",
        "# Include your solution below\n",
        "# Uses np.sqrt and np.arctan to convert the arrays to polar coordinates\n",
        "print(\"X-array: \", X)\n",
        "print(\"Y-array: \", Y)\n",
        "R = np.sqrt(X**2 + Y**2)\n",
        "T = np.arctan(Y/X)\n",
        "print(\"R-array: \", R)\n",
        "print(\"T-array: \", T)"
      ],
      "id": "ufrD4PJn2zca"
    },
    {
      "cell_type": "markdown",
      "metadata": {
        "id": "MmWwQf302zca"
      },
      "source": [
        "**17. Create random vector of size 10 and replace the maximum value by 0** Zach"
      ],
      "id": "MmWwQf302zca"
    },
    {
      "cell_type": "code",
      "execution_count": null,
      "metadata": {
        "id": "BNED1-iK2zcb"
      },
      "outputs": [],
      "source": [
        ""
      ],
      "id": "BNED1-iK2zcb"
    },
    {
      "cell_type": "markdown",
      "metadata": {
        "id": "p3Hc8fll2zcb"
      },
      "source": [
        "**18. Find the nearest value from a given value (z) in an array (Z)** Greg"
      ],
      "id": "p3Hc8fll2zcb"
    },
    {
      "cell_type": "code",
      "execution_count": null,
      "metadata": {
        "id": "Ym0vBlY02zcb"
      },
      "outputs": [],
      "source": [
        "Z = np.random.uniform(0,1,10)\n",
        "z = 0.5\n",
        "# Include your solution below"
      ],
      "id": "Ym0vBlY02zcb"
    },
    {
      "cell_type": "markdown",
      "metadata": {
        "id": "a6Z25HbD2zcb"
      },
      "source": [
        "**19. Consider the vector [5, 4, 3, 2, 1], how to build a new vector with 3 consecutive zeros interleaved between each value?** Michael"
      ],
      "id": "a6Z25HbD2zcb"
    },
    {
      "cell_type": "code",
      "execution_count": null,
      "metadata": {
        "id": "vjZVyA9W2zcb"
      },
      "outputs": [],
      "source": [
        "Z = np.arange(5)[::-1]\n",
        "# Include your solution below\n"
      ],
      "id": "vjZVyA9W2zcb"
    },
    {
      "cell_type": "markdown",
      "metadata": {
        "id": "dR7NPude2zcc"
      },
      "source": [
        "**20. Consider an array of dimension (5,5,3), how to mulitply it element-wise by an array with dimensions (5,5) - i.e., (5,5,0)$\\times$(5,5), (5,5,1)$\\times$(5,5), (5,5,2)$\\times$(5,5)** Meet"
      ],
      "id": "dR7NPude2zcc"
    },
    {
      "cell_type": "code",
      "execution_count": 22,
      "metadata": {
        "colab": {
          "base_uri": "https://localhost:8080/"
        },
        "id": "65DNZsb22zcc",
        "outputId": "874d8346-ee6e-40dd-b0f4-9f24e86d10c6"
      },
      "outputs": [
        {
          "output_type": "stream",
          "name": "stdout",
          "text": [
            "[[2. 2. 2. 2. 2.]\n",
            " [2. 2. 2. 2. 2.]\n",
            " [2. 2. 2. 2. 2.]\n",
            " [2. 2. 2. 2. 2.]\n",
            " [2. 2. 2. 2. 2.]]\n",
            "[[2. 2. 2. 2. 2.]\n",
            " [2. 2. 2. 2. 2.]\n",
            " [2. 2. 2. 2. 2.]\n",
            " [2. 2. 2. 2. 2.]\n",
            " [2. 2. 2. 2. 2.]]\n",
            "[[2. 2. 2. 2. 2.]\n",
            " [2. 2. 2. 2. 2.]\n",
            " [2. 2. 2. 2. 2.]\n",
            " [2. 2. 2. 2. 2.]\n",
            " [2. 2. 2. 2. 2.]]\n"
          ]
        }
      ],
      "source": [
        "A = np.ones((5,5,3))\n",
        "B = 2*np.ones((5,5))\n",
        "# Include your solution below\n",
        "B_reshape = np.reshape(B,(5,5,1))\n",
        "np.multiply(A[:,:,0],B)\n",
        "np.multiply(A[:,:,1],B)\n",
        "np.multiply(A[:,:,2],B)\n",
        "print(np.multiply(A[:,:,0],B))\n",
        "print(np.multiply(A[:,:,1],B))\n",
        "print(np.multiply(A[:,:,2],B))"
      ],
      "id": "65DNZsb22zcc"
    },
    {
      "cell_type": "markdown",
      "metadata": {
        "id": "cDc4P40i2zcc"
      },
      "source": [
        "**21. Swap the first and second rows of the 2D array below** Brandon"
      ],
      "id": "cDc4P40i2zcc"
    },
    {
      "cell_type": "code",
      "execution_count": null,
      "metadata": {
        "id": "HPlXdPGg2zcc",
        "outputId": "8cdb8d85-b3c2-40a3-d264-55322816c0cb"
      },
      "outputs": [
        {
          "name": "stdout",
          "output_type": "stream",
          "text": [
            "[[ 0  1  2  3  4]\n",
            " [ 5  6  7  8  9]\n",
            " [10 11 12 13 14]\n",
            " [15 16 17 18 19]\n",
            " [20 21 22 23 24]\n",
            " [25 26 27 28 29]]\n",
            "\n",
            "[[ 5  6  7  8  9]\n",
            " [ 0  1  2  3  4]\n",
            " [10 11 12 13 14]\n",
            " [15 16 17 18 19]\n",
            " [20 21 22 23 24]\n",
            " [25 26 27 28 29]]\n"
          ]
        }
      ],
      "source": [
        "W = np.arange(30).reshape(6,5)\n",
        "print(W)\n",
        "print()\n",
        "# Include your solution below\n",
        "# Selects specific rows and swaps the order of them\n",
        "W[[0,1]] = W[[1,0]]\n",
        "print(W)"
      ],
      "id": "HPlXdPGg2zcc"
    },
    {
      "cell_type": "markdown",
      "metadata": {
        "id": "xJEKJAA82zcd"
      },
      "source": [
        "**22. Write a function that receives as input a 2D Boolean NumPy array and outputs the coordinates of the minimal bounding-box\n",
        "that encloses all non-zero elements in the input array** Zach\n",
        "\n",
        "**Tip:** search for the functions nonzero and where in the NumPy documentation.\n",
        "\n",
        "\n",
        "<img src=\"../Figures/bbox.png\" width=\"150\" /> "
      ],
      "id": "xJEKJAA82zcd"
    },
    {
      "cell_type": "code",
      "execution_count": null,
      "metadata": {
        "id": "46Mmo50L2zcd"
      },
      "outputs": [],
      "source": [
        "def bbox(img):\n",
        "    #include your solution below\n",
        "    return (r1,c1),(r2,c2)\n",
        "\n",
        "\n",
        "from PIL import Image\n",
        "\n",
        "img = np.array(Image.open('../Figures/bin_image.png').convert('L')) > 0\n",
        "print(bbox(img))"
      ],
      "id": "46Mmo50L2zcd"
    },
    {
      "cell_type": "markdown",
      "metadata": {
        "id": "UHz6zPCC2zcd"
      },
      "source": [
        "**23.Write a function to compute the average over a sliding window of length N over a 1D array?** Greg\n",
        "\n",
        "*Example:* [1,2,3,4,5,6,7,8,9], N = 3 -> [2,5,8]"
      ],
      "id": "UHz6zPCC2zcd"
    },
    {
      "cell_type": "code",
      "execution_count": null,
      "metadata": {
        "id": "ywLPjeP02zcd"
      },
      "outputs": [],
      "source": [
        "def moving_average(x,N = 3):\n",
        "    #define your function here\n",
        "    return\n",
        "\n",
        "a = np.arange(30)\n",
        "N = 3\n",
        "print(moving_average(a,N))"
      ],
      "id": "ywLPjeP02zcd"
    },
    {
      "cell_type": "markdown",
      "metadata": {
        "id": "q4s0uAFg2zcd"
      },
      "source": [
        "**24.  Given a sorted 1D array C that corresponds to a bincount, how to produce an array A such that np.bincount(A) == C?** Michael\n",
        "\n",
        "*Example:* C = [3,2,4] -> D = [0,0,0,1,1,2,2,2,2]\n",
        "\n",
        "*Tip:* Consider using the NumPy repeat function"
      ],
      "id": "q4s0uAFg2zcd"
    },
    {
      "cell_type": "code",
      "execution_count": null,
      "metadata": {
        "id": "SrnkPhEr2zce"
      },
      "outputs": [],
      "source": [
        "C = np.bincount([1,1,2,3,4,4,6])\n",
        "print(C)\n",
        "# Include yoru solution here"
      ],
      "id": "SrnkPhEr2zce"
    },
    {
      "cell_type": "markdown",
      "metadata": {
        "id": "YEIEejcI2zce"
      },
      "source": [
        "**25. Find the most frequent value in the array below?** Meet"
      ],
      "id": "YEIEejcI2zce"
    },
    {
      "cell_type": "code",
      "execution_count": null,
      "metadata": {
        "colab": {
          "base_uri": "https://localhost:8080/"
        },
        "id": "ulUYLiPW2zce",
        "outputId": "5add7f80-5a1a-46c0-8051-2ebfb7ec419c"
      },
      "outputs": [
        {
          "output_type": "stream",
          "name": "stdout",
          "text": [
            "The random array has following values\n",
            "[6 3 2 3 0 9 4 5 8 3 3 7 6 3 0 8 0 7 4 6 5 6 8 8 7 9 3 9 4 2 1 3 8 7 6 8 4\n",
            " 9 2 6 9 5 8 6 2 4 1 6 6 7]\n",
            "The most frequently repeated value is - 6\n",
            "The number of times the value repeats is - 9\n"
          ]
        }
      ],
      "source": [
        "Z = np.random.randint(0,10,50)\n",
        "# Include your solution below\n",
        "countNum = np.bincount(Z)\n",
        "print(\"The random array has following values\")\n",
        "print(Z)\n",
        "print(\"The most frequently repeated value is -\",np.argmax(countNum))\n",
        "print(\"The number of times the value repeats is -\",countNum[np.argmax(countNum)])"
      ],
      "id": "ulUYLiPW2zce"
    },
    {
      "cell_type": "markdown",
      "metadata": {
        "id": "BjdiM-Bc2zce"
      },
      "source": [
        "**26. Write a function to return the n largest values of an array** Brandon"
      ],
      "id": "BjdiM-Bc2zce"
    },
    {
      "cell_type": "code",
      "execution_count": null,
      "metadata": {
        "id": "_Ro5LMHh2zce",
        "outputId": "31e520b7-bd1d-4e88-90f1-fead9a2253c9"
      },
      "outputs": [
        {
          "name": "stdout",
          "output_type": "stream",
          "text": [
            "[9995 9996 9997 9998 9999]\n"
          ]
        }
      ],
      "source": [
        "def nlargest(a,n = 5):\n",
        "    # Include your solution here\n",
        "    # Uses np.sort to sort the array, then returns the last 5 elements of the sorted array\n",
        "    a = np.sort(a)\n",
        "    a = a[-n:]\n",
        "    return a\n",
        "\n",
        "Z = np.arange(10000)\n",
        "np.random.shuffle(Z)\n",
        "n = 5\n",
        "print(nlargest(Z,n))    "
      ],
      "id": "_Ro5LMHh2zce"
    }
  ],
  "metadata": {
    "kernelspec": {
      "display_name": "Python 3",
      "language": "python",
      "name": "python3"
    },
    "language_info": {
      "codemirror_mode": {
        "name": "ipython",
        "version": 3
      },
      "file_extension": ".py",
      "mimetype": "text/x-python",
      "name": "python",
      "nbconvert_exporter": "python",
      "pygments_lexer": "ipython3",
      "version": "3.8.12"
    },
    "colab": {
      "name": "assignment01-python-numpy-programming.ipynb",
      "provenance": [],
      "collapsed_sections": []
    }
  },
  "nbformat": 4,
  "nbformat_minor": 5
}