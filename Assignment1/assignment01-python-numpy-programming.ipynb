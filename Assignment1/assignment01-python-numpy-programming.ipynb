{
 "cells": [
  {
   "cell_type": "markdown",
   "metadata": {
    "id": "ab4f35a1"
   },
   "source": [
    "# Assignment #01\n",
    "\n",
    "This assignment is composed of multiple Python and NumPy programming exercises. The deliverable of this assignment is this jupyter-notebook completed with your solution.\n",
    "\n",
    "The delivery instructions are the following:\n",
    "    - Create a GitHub repository for your team. You are free to choose its name. This repository will be used to delvier the programming assignments and the code of your team's final project.\n",
    "    - Create a folder assignment-01 in the repository. Put the jupyter-notebook with your solution in this repository and post the repository link in your team's D2L dropbox for the assignment.\n",
    "\n",
    "You are being assessed based on:\n",
    "\n",
    "1. Code execution - 25% \n",
    "2. Clarity of the code (e.g., easy to follow, has pertinent comments, etc.) - 25%\n",
    "3. Proper usage of the techniques seen in class - 25%\n",
    "    - remember to avoid explicit Python loops!  \n",
    "4. Quality and correcteness of the results - 25%\n",
    "\n",
    "More details about the assessment are available in the rubric document in the class GitHub repository.\n",
    "\n",
    "Points distribution:\n",
    "- Question 2-21: 3 points per question \n",
    "- Questions 22-26: 8 points per question (total 40)\n",
    "- Total: 100 ponits"
   ]
  },
  {
   "cell_type": "code",
   "execution_count": 26,
   "metadata": {
    "id": "69363d17"
   },
   "outputs": [],
   "source": [
    "import matplotlib.pylab as plt"
   ]
  },
  {
   "cell_type": "markdown",
   "metadata": {
    "id": "bd23b7f3"
   },
   "source": [
    "**1. Import the numpy package under the name np**"
   ]
  },
  {
   "cell_type": "code",
   "execution_count": 27,
   "metadata": {
    "id": "1947e186"
   },
   "outputs": [],
   "source": [
    "import numpy as np"
   ]
  },
  {
   "cell_type": "markdown",
   "metadata": {
    "id": "abf570c8"
   },
   "source": [
    "**2. Print the numpy version and the configuration** Zach"
   ]
  },
  {
   "cell_type": "code",
   "execution_count": 28,
   "metadata": {
    "id": "0af9230a"
   },
   "outputs": [
    {
     "name": "stdout",
     "output_type": "stream",
     "text": [
      "The numpy version: 1.18.5\n",
      "blas_mkl_info:\n",
      "    libraries = ['mkl_rt']\n",
      "    library_dirs = ['C:/Users/Greg/anaconda3\\\\Library\\\\lib']\n",
      "    define_macros = [('SCIPY_MKL_H', None), ('HAVE_CBLAS', None)]\n",
      "    include_dirs = ['C:\\\\Program Files (x86)\\\\IntelSWTools\\\\compilers_and_libraries_2019.0.117\\\\windows\\\\mkl', 'C:\\\\Program Files (x86)\\\\IntelSWTools\\\\compilers_and_libraries_2019.0.117\\\\windows\\\\mkl\\\\include', 'C:\\\\Program Files (x86)\\\\IntelSWTools\\\\compilers_and_libraries_2019.0.117\\\\windows\\\\mkl\\\\lib', 'C:/Users/Greg/anaconda3\\\\Library\\\\include']\n",
      "blas_opt_info:\n",
      "    libraries = ['mkl_rt']\n",
      "    library_dirs = ['C:/Users/Greg/anaconda3\\\\Library\\\\lib']\n",
      "    define_macros = [('SCIPY_MKL_H', None), ('HAVE_CBLAS', None)]\n",
      "    include_dirs = ['C:\\\\Program Files (x86)\\\\IntelSWTools\\\\compilers_and_libraries_2019.0.117\\\\windows\\\\mkl', 'C:\\\\Program Files (x86)\\\\IntelSWTools\\\\compilers_and_libraries_2019.0.117\\\\windows\\\\mkl\\\\include', 'C:\\\\Program Files (x86)\\\\IntelSWTools\\\\compilers_and_libraries_2019.0.117\\\\windows\\\\mkl\\\\lib', 'C:/Users/Greg/anaconda3\\\\Library\\\\include']\n",
      "lapack_mkl_info:\n",
      "    libraries = ['mkl_rt']\n",
      "    library_dirs = ['C:/Users/Greg/anaconda3\\\\Library\\\\lib']\n",
      "    define_macros = [('SCIPY_MKL_H', None), ('HAVE_CBLAS', None)]\n",
      "    include_dirs = ['C:\\\\Program Files (x86)\\\\IntelSWTools\\\\compilers_and_libraries_2019.0.117\\\\windows\\\\mkl', 'C:\\\\Program Files (x86)\\\\IntelSWTools\\\\compilers_and_libraries_2019.0.117\\\\windows\\\\mkl\\\\include', 'C:\\\\Program Files (x86)\\\\IntelSWTools\\\\compilers_and_libraries_2019.0.117\\\\windows\\\\mkl\\\\lib', 'C:/Users/Greg/anaconda3\\\\Library\\\\include']\n",
      "lapack_opt_info:\n",
      "    libraries = ['mkl_rt']\n",
      "    library_dirs = ['C:/Users/Greg/anaconda3\\\\Library\\\\lib']\n",
      "    define_macros = [('SCIPY_MKL_H', None), ('HAVE_CBLAS', None)]\n",
      "    include_dirs = ['C:\\\\Program Files (x86)\\\\IntelSWTools\\\\compilers_and_libraries_2019.0.117\\\\windows\\\\mkl', 'C:\\\\Program Files (x86)\\\\IntelSWTools\\\\compilers_and_libraries_2019.0.117\\\\windows\\\\mkl\\\\include', 'C:\\\\Program Files (x86)\\\\IntelSWTools\\\\compilers_and_libraries_2019.0.117\\\\windows\\\\mkl\\\\lib', 'C:/Users/Greg/anaconda3\\\\Library\\\\include']\n"
     ]
    }
   ],
   "source": [
    "print(\"The numpy version: {}\".format(np.__version__))\n",
    "np.show_config()"
   ]
  },
  {
   "cell_type": "markdown",
   "metadata": {
    "id": "73bf93e8"
   },
   "source": [
    "**3. Create a 1D array of zeros of size 10 of type float32** Greg"
   ]
  },
  {
   "cell_type": "code",
   "execution_count": 29,
   "metadata": {
    "id": "0fd3db6d"
   },
   "outputs": [
    {
     "name": "stdout",
     "output_type": "stream",
     "text": [
      "[0. 0. 0. 0. 0. 0. 0. 0. 0. 0.]\n"
     ]
    }
   ],
   "source": [
    "Z = np.zeros((10,), dtype='float32')\n",
    "print(Z)"
   ]
  },
  {
   "cell_type": "markdown",
   "metadata": {
    "id": "d2158302"
   },
   "source": [
    "**4. Print the memory size of the array below** Michael"
   ]
  },
  {
   "cell_type": "code",
   "execution_count": 30,
   "metadata": {
    "id": "45e42095",
    "outputId": "dfeda762-7d5b-4fd5-8319-3ac70e569885"
   },
   "outputs": [
    {
     "name": "stdout",
     "output_type": "stream",
     "text": [
      "4\n"
     ]
    }
   ],
   "source": [
    "# Z = np.zeros((32,12)) may want to remove this? just confirming\n",
    "# Include your solution below\n",
    "print(Z.itemsize)"
   ]
  },
  {
   "cell_type": "markdown",
   "metadata": {
    "id": "811c31ca"
   },
   "source": [
    "**5. Create a 1D array with values ranging from 10 to 58** Meet"
   ]
  },
  {
   "cell_type": "code",
   "execution_count": 31,
   "metadata": {
    "colab": {
     "base_uri": "https://localhost:8080/"
    },
    "id": "ab1884d1",
    "outputId": "bdf901fe-ba0a-4bdb-c8dd-ba72200971df"
   },
   "outputs": [
    {
     "data": {
      "text/plain": [
       "array([10, 11, 12, 13, 14, 15, 16, 17, 18, 19, 20, 21, 22, 23, 24, 25, 26,\n",
       "       27, 28, 29, 30, 31, 32, 33, 34, 35, 36, 37, 38, 39, 40, 41, 42, 43,\n",
       "       44, 45, 46, 47, 48, 49, 50, 51, 52, 53, 54, 55, 56, 57, 58])"
      ]
     },
     "execution_count": 31,
     "metadata": {},
     "output_type": "execute_result"
    }
   ],
   "source": [
    "np.arange(10,59)"
   ]
  },
  {
   "cell_type": "markdown",
   "metadata": {
    "id": "f5d43d8e"
   },
   "source": [
    "**6. Reverse the order of the values in the vector (first element becomes last)** Brandon"
   ]
  },
  {
   "cell_type": "code",
   "execution_count": 32,
   "metadata": {
    "id": "bd7dc393",
    "outputId": "7c93959e-28d9-4762-be47-bfa5ac5f7a6e"
   },
   "outputs": [
    {
     "name": "stdout",
     "output_type": "stream",
     "text": [
      "[9 8 7 6 5 4 3 2 1 0]\n"
     ]
    }
   ],
   "source": [
    "a = np.arange(10)\n",
    "# Include your solution below\n",
    "# Uses a negative step to reverse the order\n",
    "a = a[::-1]\n",
    "print(a)"
   ]
  },
  {
   "cell_type": "markdown",
   "metadata": {
    "id": "a56fd303"
   },
   "source": [
    "**7. Create a 3x3 matrix with values ranging from 0 to 8** Zach"
   ]
  },
  {
   "cell_type": "code",
   "execution_count": 33,
   "metadata": {
    "id": "99a50281"
   },
   "outputs": [
    {
     "name": "stdout",
     "output_type": "stream",
     "text": [
      "[[0 1 2]\n",
      " [3 4 5]\n",
      " [6 7 8]]\n"
     ]
    }
   ],
   "source": [
    "a = np.array([[0,1,2],[3,4,5],[6,7,8]])\n",
    "print(a)"
   ]
  },
  {
   "cell_type": "code",
   "execution_count": 34,
   "metadata": {},
   "outputs": [
    {
     "name": "stdout",
     "output_type": "stream",
     "text": [
      "[[0 1 2]\n",
      " [3 4 5]\n",
      " [6 7 8]]\n"
     ]
    }
   ],
   "source": [
    "#Alternate solution using reshape for question 7 (useful for a large range of values):\n",
    "a=np.arange(0,9).reshape(3,3)\n",
    "print(a)"
   ]
  },
  {
   "cell_type": "markdown",
   "metadata": {
    "id": "0f196c92"
   },
   "source": [
    "**8. Create a 3x3 identity matrix** Greg"
   ]
  },
  {
   "cell_type": "code",
   "execution_count": 35,
   "metadata": {
    "id": "01588798"
   },
   "outputs": [
    {
     "name": "stdout",
     "output_type": "stream",
     "text": [
      "[[1. 0. 0.]\n",
      " [0. 1. 0.]\n",
      " [0. 0. 1.]]\n"
     ]
    }
   ],
   "source": [
    "I = np.identity(3)\n",
    "print(I)"
   ]
  },
  {
   "cell_type": "markdown",
   "metadata": {
    "id": "f7c979ab"
   },
   "source": [
    "**9. Find and print the maximum values of each column in the array below** Michael"
   ]
  },
  {
   "cell_type": "code",
   "execution_count": 36,
   "metadata": {
    "id": "eae96290",
    "outputId": "ce3fbc76-b653-470e-90c8-369e348c8345"
   },
   "outputs": [
    {
     "name": "stdout",
     "output_type": "stream",
     "text": [
      "[0.95327095 0.84776247 0.91251863 0.97043272 0.98977559 0.83877773\n",
      " 0.92442476 0.9014428  0.94375432 0.95800386 0.95773372]\n"
     ]
    }
   ],
   "source": [
    "Z = np.random.random((10,11))\n",
    "# Include your solution below\n",
    "Z_columns = Z.shape[1]\n",
    "print(Z[:, :].max(axis = 0))"
   ]
  },
  {
   "cell_type": "markdown",
   "metadata": {
    "id": "e284021a"
   },
   "source": [
    "**10. Create a $7 \\times 7$ array with 1s on the borders (first row and column, last row and columns) and 0s everywhere else** Meet"
   ]
  },
  {
   "cell_type": "code",
   "execution_count": 37,
   "metadata": {
    "colab": {
     "base_uri": "https://localhost:8080/"
    },
    "id": "b6f3f0f7",
    "outputId": "36c3ee3d-3cb8-411a-f300-c26e22ccec28"
   },
   "outputs": [
    {
     "name": "stdout",
     "output_type": "stream",
     "text": [
      "[[1. 1. 1. 1. 1. 1. 1.]\n",
      " [1. 0. 0. 0. 0. 0. 1.]\n",
      " [1. 0. 0. 0. 0. 0. 1.]\n",
      " [1. 0. 0. 0. 0. 0. 1.]\n",
      " [1. 0. 0. 0. 0. 0. 1.]\n",
      " [1. 0. 0. 0. 0. 0. 1.]\n",
      " [1. 1. 1. 1. 1. 1. 1.]]\n"
     ]
    }
   ],
   "source": [
    "x = np.ones((7,7))\n",
    "x[1:-1,1:-1] = 0\n",
    "print(x)"
   ]
  },
  {
   "cell_type": "markdown",
   "metadata": {
    "id": "cc4a8045"
   },
   "source": [
    "**11. Pad the existing array below with zeros (i.e., add additional rows and columns with zeros). Use the NumPy pad function.** Brandon"
   ]
  },
  {
   "cell_type": "code",
   "execution_count": 38,
   "metadata": {
    "id": "5c5fae37",
    "outputId": "48d80a85-9b10-4eaf-c4f8-ace6c19eaf94"
   },
   "outputs": [
    {
     "name": "stdout",
     "output_type": "stream",
     "text": [
      "[[0. 0. 0. 0. 0. 0. 0.]\n",
      " [0. 1. 1. 1. 1. 1. 0.]\n",
      " [0. 1. 1. 1. 1. 1. 0.]\n",
      " [0. 1. 1. 1. 1. 1. 0.]\n",
      " [0. 1. 1. 1. 1. 1. 0.]\n",
      " [0. 1. 1. 1. 1. 1. 0.]\n",
      " [0. 0. 0. 0. 0. 0. 0.]]\n"
     ]
    }
   ],
   "source": [
    "Z = np.ones((5,5))\n",
    "# Include your solution below\n",
    "# Uses np.pad to add additional rows and columns\n",
    "Z = np.pad(Z, (1,1))\n",
    "print(Z)"
   ]
  },
  {
   "cell_type": "markdown",
   "metadata": {
    "id": "c875ed5e"
   },
   "source": [
    "**12. Extract the integer part of the random array of positive numbers below** Zach"
   ]
  },
  {
   "cell_type": "code",
   "execution_count": 39,
   "metadata": {
    "id": "90519b48"
   },
   "outputs": [
    {
     "name": "stdout",
     "output_type": "stream",
     "text": [
      "[8.0287117  1.79471898 1.09478221 7.23979387 7.99532448 9.28746484\n",
      " 0.52302213 0.75585447 5.01581146 5.62265985]\n",
      "[8 1 1 7 7 9 0 0 5 5]\n"
     ]
    }
   ],
   "source": [
    "Z = np.random.uniform(0,10,10)\n",
    "# Include your solution below\n",
    "print(Z) \n",
    "Z=Z.astype(int)\n",
    "print(Z)"
   ]
  },
  {
   "cell_type": "markdown",
   "metadata": {
    "id": "00344fc0"
   },
   "source": [
    "**13. Create a 5x5 matrix with rows with equal values ranging from 0 to 4 (i.e., [0,1,2,3,4])** Greg\n",
    "\n",
    "*Hint:* consider using NumPy broadcasting or the tile function*"
   ]
  },
  {
   "cell_type": "code",
   "execution_count": 40,
   "metadata": {
    "id": "07d5d5df"
   },
   "outputs": [
    {
     "name": "stdout",
     "output_type": "stream",
     "text": [
      "[[0 1 2 3 4]\n",
      " [0 1 2 3 4]\n",
      " [0 1 2 3 4]\n",
      " [0 1 2 3 4]\n",
      " [0 1 2 3 4]]\n"
     ]
    }
   ],
   "source": [
    "a = np.array([0,1,2,3,4])\n",
    "A = np.tile(a, (5, 1))\n",
    "print(A)"
   ]
  },
  {
   "cell_type": "markdown",
   "metadata": {
    "id": "c5573780"
   },
   "source": [
    "**14. Create a vector of size 10 with values ranging from 0 to 1 (0 and 1 not included)** Michael\n",
    "\n",
    "*Hint: Consider using the linspace function*"
   ]
  },
  {
   "cell_type": "code",
   "execution_count": 41,
   "metadata": {
    "id": "f1a53790",
    "outputId": "c24ba371-98b9-40fd-fe26-d7246404fd60"
   },
   "outputs": [
    {
     "name": "stdout",
     "output_type": "stream",
     "text": [
      "[0.09090909 0.18181818 0.27272727 0.36363636 0.45454545 0.54545455\n",
      " 0.63636364 0.72727273 0.81818182 0.90909091]\n"
     ]
    }
   ],
   "source": [
    "Z = np.linspace(0,1,12)[1:-1]\n",
    "print(Z)"
   ]
  },
  {
   "cell_type": "markdown",
   "metadata": {
    "id": "6a563f52"
   },
   "source": [
    "**15. Create a random vector of size 10 and sort it** Meet"
   ]
  },
  {
   "cell_type": "code",
   "execution_count": 42,
   "metadata": {
    "colab": {
     "base_uri": "https://localhost:8080/"
    },
    "id": "173b615e",
    "outputId": "1e75a909-a4f8-47e1-dfa6-5d5244a5db3f"
   },
   "outputs": [
    {
     "name": "stdout",
     "output_type": "stream",
     "text": [
      "[0 2 3 3 6 6 7 7 7 8]\n"
     ]
    }
   ],
   "source": [
    "vector = np.random.randint(10,size=10)\n",
    "X = np.sort(vector)\n",
    "print(X)"
   ]
  },
  {
   "cell_type": "markdown",
   "metadata": {
    "id": "32e712f8"
   },
   "source": [
    "**16. Consider the cartesian coordinates below (X and Y), convert them to polar coordinates (R and T)** Brandon"
   ]
  },
  {
   "cell_type": "code",
   "execution_count": 43,
   "metadata": {
    "id": "065b326c",
    "outputId": "e4be69b0-e95c-4038-a568-8da0eb9c1c48"
   },
   "outputs": [
    {
     "name": "stdout",
     "output_type": "stream",
     "text": [
      "X-array:  [0.95224445 0.09452155 0.71238747 0.87722571 0.80766448 0.89482972\n",
      " 0.62546641 0.24189652 0.54977555 0.80242772]\n",
      "Y-array:  [0.14232307 0.46678416 0.85370558 0.71526952 0.37320812 0.95694515\n",
      " 0.64772062 0.41864436 0.75564196 0.54783725]\n",
      "R-array:  [0.96282155 0.4762581  1.11189438 1.13187253 0.88972254 1.31013902\n",
      " 0.9004167  0.48350494 0.93447735 0.9716048 ]\n",
      "T-array:  [0.14836242 1.37100269 0.87539052 0.68404699 0.43285669 0.81892932\n",
      " 0.80287552 1.0468535  0.94181158 0.59903749]\n"
     ]
    }
   ],
   "source": [
    "Z = np.random.random((10,2))\n",
    "X,Y = Z[:,0], Z[:,1]\n",
    "# Include your solution below\n",
    "# Uses np.sqrt and np.arctan to convert the arrays to polar coordinates\n",
    "print(\"X-array: \", X)\n",
    "print(\"Y-array: \", Y)\n",
    "R = np.sqrt(X**2 + Y**2)\n",
    "T = np.arctan(Y/X)\n",
    "print(\"R-array: \", R)\n",
    "print(\"T-array: \", T)"
   ]
  },
  {
   "cell_type": "markdown",
   "metadata": {
    "id": "96238c8c"
   },
   "source": [
    "**17. Create random vector of size 10 and replace the maximum value by 0** Zach"
   ]
  },
  {
   "cell_type": "code",
   "execution_count": 44,
   "metadata": {
    "id": "08dea567"
   },
   "outputs": [
    {
     "name": "stdout",
     "output_type": "stream",
     "text": [
      "[0.123637   0.10784327 0.87858732 0.44028637 0.45523497 0.47737063\n",
      " 0.25709718 0.91246028 0.50602161 0.09018425]\n",
      "[0.123637   0.10784327 0.87858732 0.44028637 0.45523497 0.47737063\n",
      " 0.25709718 0.         0.50602161 0.09018425]\n"
     ]
    }
   ],
   "source": [
    "a = np.random.rand(10) # creating vector of 10 random numbers\n",
    "print(a)  \n",
    "a = np.where(a == np.amax(a, axis = 0), 0, a) # replacing value with 0 if condition (i.e. is maximum value) is met \n",
    "print(a)\n"
   ]
  },
  {
   "cell_type": "markdown",
   "metadata": {
    "id": "a0ee5391"
   },
   "source": [
    "**18. Find the nearest value from a given value (z) in an array (Z)** Greg"
   ]
  },
  {
   "cell_type": "code",
   "execution_count": 45,
   "metadata": {
    "id": "35ef784a"
   },
   "outputs": [
    {
     "name": "stdout",
     "output_type": "stream",
     "text": [
      "Array Z: [0.06315309 0.26605395 0.80927917 0.08365633 0.18234556 0.47147443\n",
      " 0.71896534 0.81096833 0.67888787 0.67940032]\n",
      "Nearest value to z=0.5 is 0.4714744342942119 at index 5 of Z.\n"
     ]
    }
   ],
   "source": [
    "Z = np.random.uniform(0,1,10)\n",
    "z = 0.5\n",
    "# Include your solution below\n",
    "\n",
    "print(f'Array Z: {Z}')\n",
    "\n",
    "index = np.argmin(np.absolute(Z-z))\n",
    "nearest = Z[index]\n",
    "\n",
    "print(f'Nearest value to z={z} is {nearest} at index {index} of Z.')"
   ]
  },
  {
   "cell_type": "markdown",
   "metadata": {
    "id": "613672ba"
   },
   "source": [
    "**19. Consider the vector [5, 4, 3, 2, 1], how to build a new vector with 3 consecutive zeros interleaved between each value?** Michael"
   ]
  },
  {
   "cell_type": "code",
   "execution_count": 46,
   "metadata": {
    "id": "096a1cd9",
    "outputId": "556cedca-dd8d-4c69-eec5-c551566608c7"
   },
   "outputs": [
    {
     "name": "stdout",
     "output_type": "stream",
     "text": [
      "[4. 0. 0. 0. 3. 0. 0. 0. 2. 0. 0. 0. 1. 0. 0. 0. 0.]\n"
     ]
    }
   ],
   "source": [
    "Z = np.arange(5)[::-1]\n",
    "# Include your solution below\n",
    "Z_0 = np.zeros(len(Z) + (len(Z)-1)*3)\n",
    "Z_0[::3+1] = Z \n",
    "print(Z_0)\n",
    "#Fix inital array??"
   ]
  },
  {
   "cell_type": "markdown",
   "metadata": {
    "id": "1ca0c737"
   },
   "source": [
    "**20. Consider an array of dimension (5,5,3), how to mulitply it element-wise by an array with dimensions (5,5) - i.e., (5,5,0)$\\times$(5,5), (5,5,1)$\\times$(5,5), (5,5,2)$\\times$(5,5)** Meet"
   ]
  },
  {
   "cell_type": "code",
   "execution_count": 47,
   "metadata": {
    "colab": {
     "base_uri": "https://localhost:8080/"
    },
    "id": "b791a50b",
    "outputId": "4e1c5308-807a-43bd-f944-3dd21c173242"
   },
   "outputs": [
    {
     "data": {
      "text/plain": [
       "array([[[2., 2., 2.],\n",
       "        [2., 2., 2.],\n",
       "        [2., 2., 2.],\n",
       "        [2., 2., 2.],\n",
       "        [2., 2., 2.]],\n",
       "\n",
       "       [[2., 2., 2.],\n",
       "        [2., 2., 2.],\n",
       "        [2., 2., 2.],\n",
       "        [2., 2., 2.],\n",
       "        [2., 2., 2.]],\n",
       "\n",
       "       [[2., 2., 2.],\n",
       "        [2., 2., 2.],\n",
       "        [2., 2., 2.],\n",
       "        [2., 2., 2.],\n",
       "        [2., 2., 2.]],\n",
       "\n",
       "       [[2., 2., 2.],\n",
       "        [2., 2., 2.],\n",
       "        [2., 2., 2.],\n",
       "        [2., 2., 2.],\n",
       "        [2., 2., 2.]],\n",
       "\n",
       "       [[2., 2., 2.],\n",
       "        [2., 2., 2.],\n",
       "        [2., 2., 2.],\n",
       "        [2., 2., 2.],\n",
       "        [2., 2., 2.]]])"
      ]
     },
     "execution_count": 47,
     "metadata": {},
     "output_type": "execute_result"
    }
   ],
   "source": [
    "A = np.ones((5,5,3))\n",
    "B = 2*np.ones((5,5))\n",
    "# Include your solution below\n",
    "B_reshape = np.reshape(B,(5,5,1))\n",
    "np.multiply(A,B_reshape)"
   ]
  },
  {
   "cell_type": "markdown",
   "metadata": {
    "id": "6d8d9e41"
   },
   "source": [
    "**21. Swap the first and second rows of the 2D array below** Brandon"
   ]
  },
  {
   "cell_type": "code",
   "execution_count": 48,
   "metadata": {
    "id": "98c5d96f",
    "outputId": "a0e6aac1-d9ce-47a6-ec12-ba46a2103f7e"
   },
   "outputs": [
    {
     "name": "stdout",
     "output_type": "stream",
     "text": [
      "[[ 0  1  2  3  4]\n",
      " [ 5  6  7  8  9]\n",
      " [10 11 12 13 14]\n",
      " [15 16 17 18 19]\n",
      " [20 21 22 23 24]\n",
      " [25 26 27 28 29]]\n",
      "\n",
      "[[ 5  6  7  8  9]\n",
      " [ 0  1  2  3  4]\n",
      " [10 11 12 13 14]\n",
      " [15 16 17 18 19]\n",
      " [20 21 22 23 24]\n",
      " [25 26 27 28 29]]\n"
     ]
    }
   ],
   "source": [
    "W = np.arange(30).reshape(6,5)\n",
    "print(W)\n",
    "print()\n",
    "# Include your solution below\n",
    "# Selects specific rows and swaps the order of them\n",
    "W[[0,1]] = W[[1,0]]\n",
    "print(W)"
   ]
  },
  {
   "cell_type": "markdown",
   "metadata": {
    "id": "caee3d98"
   },
   "source": [
    "**22. Write a function that receives as input a 2D Boolean NumPy array and outputs the coordinates of the minimal bounding-box\n",
    "that encloses all non-zero elements in the input array** Zach\n",
    "\n",
    "**Tip:** search for the functions nonzero and where in the NumPy documentation.\n",
    "\n",
    "\n",
    "<img src=\"../Figures/bbox.png\" width=\"150\" /> "
   ]
  },
  {
   "cell_type": "code",
   "execution_count": 49,
   "metadata": {
    "id": "eedca37e"
   },
   "outputs": [],
   "source": [
    "def bbox(img):\n",
    "    #include your solution below\n",
    "\n",
    "    # numpy's nonzero function returns an array of tuples that correspond with the indices of each non-zero value in each dimension.\n",
    "    # The values of the input array are returned in a row-major, C-style order.\n",
    "    r1=np.nonzero(img)[0][0]-1 # finds the first row that a non-zero value exists in, and subtracts 1 to get the enveloping row \n",
    "    c1=np.nonzero(img)[1][0]-1 \n",
    "    r2=np.nonzero(img)[0][-1]+1 \n",
    "    c2=np.max(np.nonzero(img)[1])+1 # Due to row-major order, we need to find the max value for the column tuple and then add 1 to get enveloping column \n",
    "    return (r1,c1),(r2,c2)\n",
    "\n",
    "\n",
    "from PIL import Image\n",
    "\n",
    "img = np.array(Image.open('../Figures/bin_image.png').convert('L')) > 0\n",
    "\n",
    "# --- the code below was used to test ---\n",
    "# example_img=np.array([[0,0,0,0,0,0],[0,0,0,0,0,0],[0,0,1,1,0,0],[0,0,0,0,0,0],[0,0,1,0,0,0],[0,0,0,0,0,0],[0,0,0,0,0,0]])\n",
    "# print(example_img)\n",
    "# print(np.nonzero(example_img))\n",
    "# print(np.nonzero(example_img)[0][0]-1) #r1\n",
    "# print(np.nonzero(example_img)[1][0]-1) #c1\n",
    "# print(np.nonzero(example_img)[0][-1]+1) #r2\n",
    "# print(np.max(np.nonzero(example_img)[1])+1) #c2\n",
    "# ---------------------------------\n",
    "\n",
    "# print(bbox(img))"
   ]
  },
  {
   "cell_type": "markdown",
   "metadata": {
    "id": "a5e07ad6"
   },
   "source": [
    "**23.Write a function to compute the average over a sliding window of length N over a 1D array?** Greg\n",
    "\n",
    "*Example:* [1,2,3,4,5,6,7,8,9], N = 3 -> [2,5,8]"
   ]
  },
  {
   "cell_type": "code",
   "execution_count": 50,
   "metadata": {
    "id": "0d405b5e"
   },
   "outputs": [
    {
     "name": "stdout",
     "output_type": "stream",
     "text": [
      "[ 1.  4.  7. 10. 13. 16. 19. 22. 25. 28.]\n"
     ]
    }
   ],
   "source": [
    "def moving_average(x,N = 3):\n",
    "    #define your function here\n",
    "    try:\n",
    "        a = np.reshape(x, (x.size//N, N))\n",
    "    except:\n",
    "        return f'Incompatible array size of {x.size} for sliding window of length {N}.'\n",
    "    b = np.mean(a, axis=1)\n",
    "    return b\n",
    "\n",
    "a = np.arange(30)\n",
    "N = 3\n",
    "print(moving_average(a,N))"
   ]
  },
  {
   "cell_type": "markdown",
   "metadata": {
    "id": "2233b82e"
   },
   "source": [
    "**24.  Given a sorted 1D array C that corresponds to a bincount, how to produce an array A such that np.bincount(A) == C?** Michael\n",
    "\n",
    "*Example:* C = [3,2,4] -> D = [0,0,0,1,1,2,2,2,2]\n",
    "\n",
    "*Tip:* Consider using the NumPy repeat function"
   ]
  },
  {
   "cell_type": "code",
   "execution_count": 51,
   "metadata": {
    "id": "b09a5a8a",
    "outputId": "74e7a05c-5dba-4c16-ff23-b84676c6aea2"
   },
   "outputs": [
    {
     "name": "stdout",
     "output_type": "stream",
     "text": [
      "[0 2 1 1 2 0 1]\n",
      "[1 1 2 3 4 4 6]\n"
     ]
    }
   ],
   "source": [
    "C = np.bincount([1,1,2,3,4,4,6])\n",
    "print(C)\n",
    "# Include your solution here\n",
    "A = np.repeat(np.arange(C.size), C)\n",
    "print(A)"
   ]
  },
  {
   "cell_type": "markdown",
   "metadata": {
    "id": "9da6d0d4"
   },
   "source": [
    "**25. Find the most frequent value in the array below?** Meet"
   ]
  },
  {
   "cell_type": "code",
   "execution_count": 52,
   "metadata": {
    "colab": {
     "base_uri": "https://localhost:8080/"
    },
    "id": "78b204fb",
    "outputId": "f96d3b69-c265-4b47-d526-084f7cee511d"
   },
   "outputs": [
    {
     "name": "stdout",
     "output_type": "stream",
     "text": [
      "The random array has following values\n",
      "[0 9 5 7 3 4 7 2 7 2 7 0 2 1 4 9 8 2 0 7 4 4 1 2 4 7 8 7 8 6 0 9 6 6 9 4 4\n",
      " 6 0 6 5 9 0 8 3 0 8 1 8 2]\n",
      "The most frequently repeated value is - 0\n",
      "The number of times the value repeats is - 7\n"
     ]
    }
   ],
   "source": [
    "Z = np.random.randint(0,10,50)\n",
    "# Include your solution below\n",
    "countNum = np.bincount(Z)\n",
    "print(\"The random array has following values\")\n",
    "print(Z)\n",
    "print(\"The most frequently repeated value is -\",np.argmax(countNum))\n",
    "print(\"The number of times the value repeats is -\",countNum[np.argmax(countNum)])"
   ]
  },
  {
   "cell_type": "markdown",
   "metadata": {
    "id": "cee0462a"
   },
   "source": [
    "**26. Write a function to return the n largest values of an array** Brandon"
   ]
  },
  {
   "cell_type": "code",
   "execution_count": 53,
   "metadata": {
    "id": "6ffbda9a",
    "outputId": "08679722-d2e9-4e7e-81d0-6d2f039d6118"
   },
   "outputs": [
    {
     "name": "stdout",
     "output_type": "stream",
     "text": [
      "[9995 9996 9997 9998 9999]\n"
     ]
    }
   ],
   "source": [
    "def nlargest(a,n = 5):\n",
    "    # Include your solution here\n",
    "    # Uses np.sort to sort the array, then returns the last 5 elements of the sorted array\n",
    "    a = np.sort(a)\n",
    "    a = a[-n:]\n",
    "    return a\n",
    "\n",
    "Z = np.arange(10000)\n",
    "np.random.shuffle(Z)\n",
    "n = 5\n",
    "print(nlargest(Z,n))    "
   ]
  }
 ],
 "metadata": {
  "colab": {
   "name": "assignment01-python-numpy-programming.ipynb",
   "provenance": []
  },
  "kernelspec": {
   "display_name": "Python 3",
   "language": "python",
   "name": "python3"
  },
  "language_info": {
   "codemirror_mode": {
    "name": "ipython",
    "version": 3
   },
   "file_extension": ".py",
   "mimetype": "text/x-python",
   "name": "python",
   "nbconvert_exporter": "python",
   "pygments_lexer": "ipython3",
   "version": "3.8.3"
  }
 },
 "nbformat": 4,
 "nbformat_minor": 5
}
