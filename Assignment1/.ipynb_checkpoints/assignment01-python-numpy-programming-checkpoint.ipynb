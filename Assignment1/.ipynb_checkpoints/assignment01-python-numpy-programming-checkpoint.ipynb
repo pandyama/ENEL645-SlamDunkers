{
 "cells": [
  {
   "cell_type": "markdown",
   "id": "ab4f35a1",
   "metadata": {},
   "source": [
    "# Assignment #01\n",
    "\n",
    "This assignment is composed of multiple Python and NumPy programming exercises. The deliverable of this assignment is this jupyter-notebook completed with your solution.\n",
    "\n",
    "The delivery instructions are the following:\n",
    "    - Create a GitHub repository for your team. You are free to choose its name. This repository will be used to delvier the programming assignments and the code of your team's final project.\n",
    "    - Create a folder assignment-01 in the repository. Put the jupyter-notebook with your solution in this repository and post the repository link in your team's D2L dropbox for the assignment.\n",
    "\n",
    "You are being assessed based on:\n",
    "\n",
    "1. Code execution - 25% \n",
    "2. Clarity of the code (e.g., easy to follow, has pertinent comments, etc.) - 25%\n",
    "3. Proper usage of the techniques seen in class - 25%\n",
    "    - remember to avoid explicit Python loops!  \n",
    "4. Quality and correcteness of the results - 25%\n",
    "\n",
    "More details about the assessment are available in the rubric document in the class GitHub repository.\n",
    "\n",
    "Points distribution:\n",
    "- Question 2-21: 3 points per question \n",
    "- Questions 22-26: 8 points per question (total 40)\n",
    "- Total: 100 ponits"
   ]
  },
  {
   "cell_type": "code",
   "execution_count": 1,
   "id": "69363d17",
   "metadata": {},
   "outputs": [],
   "source": [
    "import matplotlib.pylab as plt"
   ]
  },
  {
   "cell_type": "markdown",
   "id": "bd23b7f3",
   "metadata": {},
   "source": [
    "**1. Import the numpy package under the name np**"
   ]
  },
  {
   "cell_type": "code",
   "execution_count": 2,
   "id": "1947e186",
   "metadata": {},
   "outputs": [],
   "source": [
    "import numpy as np"
   ]
  },
  {
   "cell_type": "markdown",
   "id": "abf570c8",
   "metadata": {},
   "source": [
    "**2. Print the numpy version and the configuration** Zach"
   ]
  },
  {
   "cell_type": "code",
   "execution_count": null,
   "id": "0af9230a",
   "metadata": {},
   "outputs": [],
   "source": []
  },
  {
   "cell_type": "markdown",
   "id": "73bf93e8",
   "metadata": {},
   "source": [
    "**3. Create a 1D array of zeros of size 10 of type float32** Greg"
   ]
  },
  {
   "cell_type": "code",
   "execution_count": null,
   "id": "0fd3db6d",
   "metadata": {},
   "outputs": [],
   "source": []
  },
  {
   "cell_type": "markdown",
   "id": "d2158302",
   "metadata": {},
   "source": [
    "**4. Print the memory size of the array below** Michael"
   ]
  },
  {
   "cell_type": "code",
   "execution_count": 5,
   "id": "45e42095",
   "metadata": {},
   "outputs": [
    {
     "name": "stdout",
     "output_type": "stream",
     "text": [
      "8\n"
     ]
    }
   ],
   "source": [
    "Z = np.zeros((32,12))\n",
    "# Include your solution below\n",
    "print(Z.itemsize)"
   ]
  },
  {
   "cell_type": "markdown",
   "id": "811c31ca",
   "metadata": {},
   "source": [
    "**5. Create a 1D array with values ranging from 10 to 58** Meet"
   ]
  },
  {
   "cell_type": "code",
   "execution_count": null,
   "id": "ab1884d1",
   "metadata": {},
   "outputs": [],
   "source": []
  },
  {
   "cell_type": "markdown",
   "id": "f5d43d8e",
   "metadata": {},
   "source": [
    "**6. Reverse the order of the values in the vector (first element becomes last)** Brandon"
   ]
  },
  {
   "cell_type": "code",
   "execution_count": 21,
   "id": "bd7dc393",
   "metadata": {},
   "outputs": [
    {
     "name": "stdout",
     "output_type": "stream",
     "text": [
      "[9 8 7 6 5 4 3 2 1 0]\n"
     ]
    }
   ],
   "source": [
    "a = np.arange(10)\n",
    "# Include your solution below\n",
    "# Uses a negative step to reverse the order\n",
    "a = a[::-1]\n",
    "print(a)"
   ]
  },
  {
   "cell_type": "markdown",
   "id": "a56fd303",
   "metadata": {},
   "source": [
    "**7. Create a 3x3 matrix with values ranging from 0 to 8** Zach"
   ]
  },
  {
   "cell_type": "code",
   "execution_count": null,
   "id": "99a50281",
   "metadata": {},
   "outputs": [],
   "source": []
  },
  {
   "cell_type": "markdown",
   "id": "0f196c92",
   "metadata": {},
   "source": [
    "**8. Create a 3x3 identity matrix** Greg"
   ]
  },
  {
   "cell_type": "code",
   "execution_count": null,
   "id": "01588798",
   "metadata": {},
   "outputs": [],
   "source": []
  },
  {
   "cell_type": "markdown",
   "id": "f7c979ab",
   "metadata": {},
   "source": [
    "**9. Find and print the maximum values of each column in the array below** Michael"
   ]
  },
  {
   "cell_type": "code",
   "execution_count": null,
   "id": "eae96290",
   "metadata": {},
   "outputs": [],
   "source": [
    "Z = np.random.random((10,11))\n",
    "# Include your solution below\n"
   ]
  },
  {
   "cell_type": "code",
   "execution_count": null,
   "id": "40cc0735",
   "metadata": {},
   "outputs": [],
   "source": []
  },
  {
   "cell_type": "markdown",
   "id": "e284021a",
   "metadata": {},
   "source": [
    "**10. Create a $7 \\times 7$ array with 1s on the borders (first row and column, last row and columns) and 0s everywhere else** Meet"
   ]
  },
  {
   "cell_type": "code",
   "execution_count": null,
   "id": "b6f3f0f7",
   "metadata": {},
   "outputs": [],
   "source": []
  },
  {
   "cell_type": "markdown",
   "id": "cc4a8045",
   "metadata": {},
   "source": [
    "**11. Pad the existing array below with zeros (i.e., add additional rows and columns with zeros). Use the NumPy pad function.** Brandon"
   ]
  },
  {
   "cell_type": "code",
   "execution_count": 22,
   "id": "5c5fae37",
   "metadata": {},
   "outputs": [
    {
     "name": "stdout",
     "output_type": "stream",
     "text": [
      "[[0. 0. 0. 0. 0. 0. 0.]\n",
      " [0. 1. 1. 1. 1. 1. 0.]\n",
      " [0. 1. 1. 1. 1. 1. 0.]\n",
      " [0. 1. 1. 1. 1. 1. 0.]\n",
      " [0. 1. 1. 1. 1. 1. 0.]\n",
      " [0. 1. 1. 1. 1. 1. 0.]\n",
      " [0. 0. 0. 0. 0. 0. 0.]]\n"
     ]
    }
   ],
   "source": [
    "Z = np.ones((5,5))\n",
    "# Include your solution below\n",
    "# Uses np.pad to add additional rows and columns\n",
    "Z = np.pad(Z, (1,1))\n",
    "print(Z)"
   ]
  },
  {
   "cell_type": "markdown",
   "id": "c875ed5e",
   "metadata": {},
   "source": [
    "**12. Extract the integer part of the random array of positive numbers below** Zach"
   ]
  },
  {
   "cell_type": "code",
   "execution_count": null,
   "id": "90519b48",
   "metadata": {},
   "outputs": [],
   "source": [
    "Z = np.random.uniform(0,10,10)\n",
    "# Include your solution below"
   ]
  },
  {
   "cell_type": "markdown",
   "id": "00344fc0",
   "metadata": {},
   "source": [
    "**13. Create a 5x5 matrix with rows with equal values ranging from 0 to 4 (i.e., [0,1,2,3,4])** Greg\n",
    "\n",
    "*Hint:* consider using NumPy broadcasting or the tile function*"
   ]
  },
  {
   "cell_type": "code",
   "execution_count": null,
   "id": "07d5d5df",
   "metadata": {},
   "outputs": [],
   "source": []
  },
  {
   "cell_type": "markdown",
   "id": "c5573780",
   "metadata": {},
   "source": [
    "**14. Create a vector of size 10 with values ranging from 0 to 1 (0 and 1 not included)** Michael\n",
    "\n",
    "*Hint: Consider using the linspace function*"
   ]
  },
  {
   "cell_type": "code",
   "execution_count": null,
   "id": "f1a53790",
   "metadata": {},
   "outputs": [],
   "source": []
  },
  {
   "cell_type": "markdown",
   "id": "6a563f52",
   "metadata": {},
   "source": [
    "**15. Create a random vector of size 10 and sort it** Meet"
   ]
  },
  {
   "cell_type": "code",
   "execution_count": null,
   "id": "173b615e",
   "metadata": {},
   "outputs": [],
   "source": []
  },
  {
   "cell_type": "markdown",
   "id": "32e712f8",
   "metadata": {},
   "source": [
    "**16. Consider the cartesian coordinates below (X and Y), convert them to polar coordinates (R and T)** Brandon"
   ]
  },
  {
   "cell_type": "code",
   "execution_count": 23,
   "id": "065b326c",
   "metadata": {},
   "outputs": [
    {
     "name": "stdout",
     "output_type": "stream",
     "text": [
      "X-array:  [0.03257897 0.23893606 0.85867206 0.37486254 0.18049818 0.09359002\n",
      " 0.84455466 0.55460672 0.89200748 0.52289275]\n",
      "Y-array:  [0.49436396 0.07306858 0.25759516 0.34227566 0.57572303 0.36858587\n",
      " 0.61139615 0.39258568 0.9086864  0.97182435]\n",
      "R-array:  [0.49543628 0.24985888 0.8964781  0.50761654 0.60335446 0.38028231\n",
      " 1.04263024 0.67949402 1.27333748 1.10356667]\n",
      "T-array:  [1.5049907  0.29677674 0.2914499  0.73998923 1.26698644 1.32213499\n",
      " 0.62660469 0.6159838  0.79466039 1.07717193]\n"
     ]
    }
   ],
   "source": [
    "Z = np.random.random((10,2))\n",
    "X,Y = Z[:,0], Z[:,1]\n",
    "# Include your solution below\n",
    "# Uses np.sqrt and np.arctan to convert the arrays to polar coordinates\n",
    "print(\"X-array: \", X)\n",
    "print(\"Y-array: \", Y)\n",
    "R = np.sqrt(X**2 + Y**2)\n",
    "T = np.arctan(Y/X)\n",
    "print(\"R-array: \", R)\n",
    "print(\"T-array: \", T)"
   ]
  },
  {
   "cell_type": "markdown",
   "id": "96238c8c",
   "metadata": {},
   "source": [
    "**17. Create random vector of size 10 and replace the maximum value by 0** Zach"
   ]
  },
  {
   "cell_type": "code",
   "execution_count": null,
   "id": "08dea567",
   "metadata": {},
   "outputs": [],
   "source": []
  },
  {
   "cell_type": "markdown",
   "id": "a0ee5391",
   "metadata": {},
   "source": [
    "**18. Find the nearest value from a given value (z) in an array (Z)** Greg"
   ]
  },
  {
   "cell_type": "code",
   "execution_count": null,
   "id": "35ef784a",
   "metadata": {},
   "outputs": [],
   "source": [
    "Z = np.random.uniform(0,1,10)\n",
    "z = 0.5\n",
    "# Include your solution below"
   ]
  },
  {
   "cell_type": "markdown",
   "id": "613672ba",
   "metadata": {},
   "source": [
    "**19. Consider the vector [5, 4, 3, 2, 1], how to build a new vector with 3 consecutive zeros interleaved between each value?** Michael"
   ]
  },
  {
   "cell_type": "code",
   "execution_count": null,
   "id": "096a1cd9",
   "metadata": {},
   "outputs": [],
   "source": [
    "Z = np.arange(5)[::-1]\n",
    "# Include your solution below\n"
   ]
  },
  {
   "cell_type": "markdown",
   "id": "1ca0c737",
   "metadata": {},
   "source": [
    "**20. Consider an array of dimension (5,5,3), how to mulitply it element-wise by an array with dimensions (5,5) - i.e., (5,5,0)$\\times$(5,5), (5,5,1)$\\times$(5,5), (5,5,2)$\\times$(5,5)** Meet"
   ]
  },
  {
   "cell_type": "code",
   "execution_count": null,
   "id": "b791a50b",
   "metadata": {},
   "outputs": [],
   "source": [
    "A = np.ones((5,5,3))\n",
    "B = 2*np.ones((5,5))\n",
    "# Include your solution below\n",
    "\n"
   ]
  },
  {
   "cell_type": "markdown",
   "id": "6d8d9e41",
   "metadata": {},
   "source": [
    "**21. Swap the first and second rows of the 2D array below** Brandon"
   ]
  },
  {
   "cell_type": "code",
   "execution_count": 24,
   "id": "98c5d96f",
   "metadata": {},
   "outputs": [
    {
     "name": "stdout",
     "output_type": "stream",
     "text": [
      "[[ 0  1  2  3  4]\n",
      " [ 5  6  7  8  9]\n",
      " [10 11 12 13 14]\n",
      " [15 16 17 18 19]\n",
      " [20 21 22 23 24]\n",
      " [25 26 27 28 29]]\n",
      "\n",
      "[[ 5  6  7  8  9]\n",
      " [ 0  1  2  3  4]\n",
      " [10 11 12 13 14]\n",
      " [15 16 17 18 19]\n",
      " [20 21 22 23 24]\n",
      " [25 26 27 28 29]]\n"
     ]
    }
   ],
   "source": [
    "W = np.arange(30).reshape(6,5)\n",
    "print(W)\n",
    "print()\n",
    "# Include your solution below\n",
    "# Selects specific rows and swaps the order of them\n",
    "W[[0,1]] = W[[1,0]]\n",
    "print(W)"
   ]
  },
  {
   "cell_type": "markdown",
   "id": "caee3d98",
   "metadata": {},
   "source": [
    "**22. Write a function that receives as input a 2D Boolean NumPy array and outputs the coordinates of the minimal bounding-box\n",
    "that encloses all non-zero elements in the input array** Zach\n",
    "\n",
    "**Tip:** search for the functions nonzero and where in the NumPy documentation.\n",
    "\n",
    "\n",
    "<img src=\"../Figures/bbox.png\" width=\"150\" /> "
   ]
  },
  {
   "cell_type": "code",
   "execution_count": null,
   "id": "eedca37e",
   "metadata": {},
   "outputs": [],
   "source": [
    "def bbox(img):\n",
    "    #include your solution below\n",
    "    return (r1,c1),(r2,c2)\n",
    "\n",
    "\n",
    "from PIL import Image\n",
    "\n",
    "img = np.array(Image.open('../Figures/bin_image.png').convert('L')) > 0\n",
    "print(bbox(img))"
   ]
  },
  {
   "cell_type": "markdown",
   "id": "a5e07ad6",
   "metadata": {},
   "source": [
    "**23.Write a function to compute the average over a sliding window of length N over a 1D array?** Greg\n",
    "\n",
    "*Example:* [1,2,3,4,5,6,7,8,9], N = 3 -> [2,5,8]"
   ]
  },
  {
   "cell_type": "code",
   "execution_count": null,
   "id": "0d405b5e",
   "metadata": {},
   "outputs": [],
   "source": [
    "def moving_average(x,N = 3):\n",
    "    #define your function here\n",
    "    return\n",
    "\n",
    "a = np.arange(30)\n",
    "N = 3\n",
    "print(moving_average(a,N))"
   ]
  },
  {
   "cell_type": "markdown",
   "id": "2233b82e",
   "metadata": {},
   "source": [
    "**24.  Given a sorted 1D array C that corresponds to a bincount, how to produce an array A such that np.bincount(A) == C?** Michael\n",
    "\n",
    "*Example:* C = [3,2,4] -> D = [0,0,0,1,1,2,2,2,2]\n",
    "\n",
    "*Tip:* Consider using the NumPy repeat function"
   ]
  },
  {
   "cell_type": "code",
   "execution_count": null,
   "id": "b09a5a8a",
   "metadata": {},
   "outputs": [],
   "source": [
    "C = np.bincount([1,1,2,3,4,4,6])\n",
    "print(C)\n",
    "# Include yoru solution here"
   ]
  },
  {
   "cell_type": "markdown",
   "id": "9da6d0d4",
   "metadata": {},
   "source": [
    "**25. Find the most frequent value in the array below?** Meet"
   ]
  },
  {
   "cell_type": "code",
   "execution_count": null,
   "id": "78b204fb",
   "metadata": {},
   "outputs": [],
   "source": [
    "Z = np.random.randint(0,10,50)\n",
    "# Include your solution below"
   ]
  },
  {
   "cell_type": "markdown",
   "id": "cee0462a",
   "metadata": {},
   "source": [
    "**26. Write a function to return the n largest values of an array** Brandon"
   ]
  },
  {
   "cell_type": "code",
   "execution_count": 25,
   "id": "6ffbda9a",
   "metadata": {},
   "outputs": [
    {
     "name": "stdout",
     "output_type": "stream",
     "text": [
      "[9995 9996 9997 9998 9999]\n"
     ]
    }
   ],
   "source": [
    "def nlargest(a,n = 5):\n",
    "    # Include your solution here\n",
    "    # Uses np.sort to sort the array, then returns the last 5 elements of the sorted array\n",
    "    a = np.sort(a)\n",
    "    a = a[-n:]\n",
    "    return a\n",
    "\n",
    "Z = np.arange(10000)\n",
    "np.random.shuffle(Z)\n",
    "n = 5\n",
    "print(nlargest(Z,n))    "
   ]
  }
 ],
 "metadata": {
  "kernelspec": {
   "display_name": "Python 3",
   "language": "python",
   "name": "python3"
  },
  "language_info": {
   "codemirror_mode": {
    "name": "ipython",
    "version": 3
   },
   "file_extension": ".py",
   "mimetype": "text/x-python",
   "name": "python",
   "nbconvert_exporter": "python",
   "pygments_lexer": "ipython3",
   "version": "3.8.8"
  }
 },
 "nbformat": 4,
 "nbformat_minor": 5
}
