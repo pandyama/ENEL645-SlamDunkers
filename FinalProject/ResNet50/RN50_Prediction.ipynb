{
 "cells": [
  {
   "cell_type": "code",
   "execution_count": 1,
   "metadata": {},
   "outputs": [],
   "source": [
    "import numpy as np\n",
    "import glob\n",
    "import tensorflow as tf\n",
    "from tensorflow import keras\n",
    "from tensorflow.keras.preprocessing.image import ImageDataGenerator\n",
    "from tensorflow.keras.applications import ResNet50\n",
    "from tensorflow.keras.applications.resnet50 import ResNet50\n",
    "import matplotlib.pylab as plt\n",
    "import pandas as pd\n",
    "import pickle"
   ]
  },
  {
   "cell_type": "code",
   "execution_count": 2,
   "metadata": {},
   "outputs": [],
   "source": [
    "# Defining data generators and data augmentation parameters\n",
    "gen_params = {\"featurewise_center\":False,\\\n",
    "              \"samplewise_center\":False,\\\n",
    "              \"featurewise_std_normalization\":False, \\\n",
    "              \"samplewise_std_normalization\":False,\\\n",
    "              \"zca_whitening\":False, \\\n",
    "              \"rotation_range\":20, \\\n",
    "               \"width_shift_range\":0.1,   \\\n",
    "               \"height_shift_range\":0.1,  \\\n",
    "               \"shear_range\":0.2,            \\\n",
    "               \"zoom_range\":0.1,    \\\n",
    "               \"horizontal_flip\":True,   \\\n",
    "               \"vertical_flip\":True}"
   ]
  },
  {
   "cell_type": "code",
   "execution_count": 3,
   "metadata": {},
   "outputs": [],
   "source": [
    "class_names = [\"Black\", \"Blue\",  \"Green\", \"Take-to-recycle\"]\n",
    "bs = 64 # batch size"
   ]
  },
  {
   "cell_type": "code",
   "execution_count": 4,
   "metadata": {},
   "outputs": [
    {
     "name": "stdout",
     "output_type": "stream",
     "text": [
      "Found 807 images belonging to 4 classes.\n"
     ]
    }
   ],
   "source": [
    "test_gen = ImageDataGenerator(**gen_params, preprocessing_function = tf.keras.applications.resnet.preprocess_input)\n",
    "\n",
    "test_generator = test_gen.flow_from_directory(\n",
    "    directory = \"./Test\",\n",
    "    target_size=(256, 256),\n",
    "    color_mode=\"rgb\",\n",
    "    classes= class_names,\n",
    "    class_mode=\"categorical\",\n",
    "    batch_size=bs,\n",
    "    shuffle=True,\n",
    "    seed=42,\n",
    "    interpolation=\"nearest\",\n",
    ")"
   ]
  },
  {
   "cell_type": "code",
   "execution_count": 5,
   "metadata": {},
   "outputs": [
    {
     "name": "stdout",
     "output_type": "stream",
     "text": [
      "13/13 [==============================] - 29s 2s/step - loss: 0.9162 - accuracy: 0.7968\n"
     ]
    },
    {
     "data": {
      "text/plain": [
       "[0.9162095189094543, 0.7967782020568848]"
      ]
     },
     "execution_count": 5,
     "metadata": {},
     "output_type": "execute_result"
    }
   ],
   "source": [
    "# Testing the model in the initial training with transfer learning (10 epochs)\n",
    "model = tf.keras.models.load_model(\"./Outputs/garbage_classifier_en_b0_it.h5\")\n",
    "model.evaluate(test_generator)"
   ]
  },
  {
   "cell_type": "code",
   "execution_count": 6,
   "metadata": {},
   "outputs": [
    {
     "name": "stdout",
     "output_type": "stream",
     "text": [
      "13/13 [==============================] - 10s 699ms/step - loss: 0.9692 - accuracy: 0.7646\n"
     ]
    },
    {
     "data": {
      "text/plain": [
       "[0.9692475199699402, 0.7645601034164429]"
      ]
     },
     "execution_count": 6,
     "metadata": {},
     "output_type": "execute_result"
    }
   ],
   "source": [
    "# Testing the model in the fine tuning with transfer learning (10 epochs)\n",
    "model = tf.keras.models.load_model(\"./Outputs/garbage_classifier_en_b0_ft.h5\")\n",
    "model.evaluate(test_generator)"
   ]
  },
  {
   "cell_type": "code",
   "execution_count": 27,
   "metadata": {},
   "outputs": [
    {
     "name": "stdout",
     "output_type": "stream",
     "text": [
      "13/13 [==============================] - 11s 744ms/step - loss: 1.2546 - accuracy: 0.5613\n"
     ]
    },
    {
     "data": {
      "text/plain": [
       "[1.254584789276123, 0.5613383054733276]"
      ]
     },
     "execution_count": 27,
     "metadata": {},
     "output_type": "execute_result"
    }
   ],
   "source": [
    "# Testing the model in the initial training without transfer learning\n",
    "model = tf.keras.models.load_model(\"./Outputs/garbage_classifier_en_RN_noTL_it.h5\")\n",
    "model.evaluate(test_generator)"
   ]
  },
  {
   "cell_type": "code",
   "execution_count": 28,
   "metadata": {},
   "outputs": [
    {
     "name": "stdout",
     "output_type": "stream",
     "text": [
      "13/13 [==============================] - 11s 724ms/step - loss: 1.2538 - accuracy: 0.5675\n"
     ]
    },
    {
     "data": {
      "text/plain": [
       "[1.2538378238677979, 0.5675340890884399]"
      ]
     },
     "execution_count": 28,
     "metadata": {},
     "output_type": "execute_result"
    }
   ],
   "source": [
    "# Testing the model in the fine tuning without transfer learning\n",
    "model = tf.keras.models.load_model(\"./Outputs/garbage_classifier_en_RN_noTL_ft.h5\")\n",
    "model.evaluate(test_generator)"
   ]
  },
  {
   "cell_type": "code",
   "execution_count": 29,
   "metadata": {},
   "outputs": [
    {
     "name": "stdout",
     "output_type": "stream",
     "text": [
      "13/13 [==============================] - 11s 763ms/step - loss: 0.9998 - accuracy: 0.7720\n"
     ]
    },
    {
     "data": {
      "text/plain": [
       "[0.9997820258140564, 0.7719950675964355]"
      ]
     },
     "execution_count": 29,
     "metadata": {},
     "output_type": "execute_result"
    }
   ],
   "source": [
    "# Testing the model in the initial training with transfer learning (100 epochs)\n",
    "model = tf.keras.models.load_model(\"./Outputs/garbage_classifier_RN_TL_it.h5\")\n",
    "model.evaluate(test_generator)"
   ]
  },
  {
   "cell_type": "code",
   "execution_count": 30,
   "metadata": {},
   "outputs": [
    {
     "name": "stdout",
     "output_type": "stream",
     "text": [
      "13/13 [==============================] - 11s 774ms/step - loss: 0.8796 - accuracy: 0.7770\n"
     ]
    },
    {
     "data": {
      "text/plain": [
       "[0.8795908093452454, 0.7769516706466675]"
      ]
     },
     "execution_count": 30,
     "metadata": {},
     "output_type": "execute_result"
    }
   ],
   "source": [
    "# Testing the model in the fine tuning with transfer learning (100 epochs)\n",
    "model = tf.keras.models.load_model(\"./Outputs/garbage_classifier_RN_TL_ft.h5\")\n",
    "model.evaluate(test_generator)"
   ]
  },
  {
   "cell_type": "code",
   "execution_count": 31,
   "metadata": {},
   "outputs": [
    {
     "name": "stdout",
     "output_type": "stream",
     "text": [
      "13/13 [==============================] - 21s 1s/step - loss: 0.9393 - accuracy: 0.8092\n"
     ]
    },
    {
     "data": {
      "text/plain": [
       "[0.9393144249916077, 0.8091697692871094]"
      ]
     },
     "execution_count": 31,
     "metadata": {},
     "output_type": "execute_result"
    }
   ],
   "source": [
    "# Testing the model in the initial training with transfer learning (100 epochs) and 20% dropout\n",
    "model = tf.keras.models.load_model(\"./TL_100_Dropout/Outputs/garbage_classifier_RN_TL_100_dropout_it.h5\")\n",
    "model.evaluate(test_generator)"
   ]
  },
  {
   "cell_type": "code",
   "execution_count": 32,
   "metadata": {},
   "outputs": [
    {
     "name": "stdout",
     "output_type": "stream",
     "text": [
      "13/13 [==============================] - 11s 748ms/step - loss: 0.9041 - accuracy: 0.8129\n"
     ]
    },
    {
     "data": {
      "text/plain": [
       "[0.9040752649307251, 0.8128872513771057]"
      ]
     },
     "execution_count": 32,
     "metadata": {},
     "output_type": "execute_result"
    }
   ],
   "source": [
    "# Testing the model in the fine tuning with transfer learning (100 epochs) and 20% dropout\n",
    "model = tf.keras.models.load_model(\"./TL_100_Dropout/Outputs/garbage_classifier_RN_TL_100_dropout_ft.h5\")\n",
    "model.evaluate(test_generator)"
   ]
  },
  {
   "cell_type": "code",
   "execution_count": 7,
   "metadata": {},
   "outputs": [
    {
     "name": "stdout",
     "output_type": "stream",
     "text": [
      "13/13 [==============================] - 10s 702ms/step - loss: 0.9450 - accuracy: 0.8079\n"
     ]
    },
    {
     "data": {
      "text/plain": [
       "[0.9450135827064514, 0.807930588722229]"
      ]
     },
     "execution_count": 7,
     "metadata": {},
     "output_type": "execute_result"
    }
   ],
   "source": [
    "# Testing the model in the initial training with transfer learning (100 epochs) and 50% dropout\n",
    "model = tf.keras.models.load_model(\"./TL_100_Dropout50/Outputs/garbage_classifier_RN_TL_100_dropout50_it.h5\")\n",
    "model.evaluate(test_generator)"
   ]
  },
  {
   "cell_type": "code",
   "execution_count": 8,
   "metadata": {},
   "outputs": [
    {
     "name": "stdout",
     "output_type": "stream",
     "text": [
      "13/13 [==============================] - 11s 723ms/step - loss: 0.9962 - accuracy: 0.7968\n"
     ]
    },
    {
     "data": {
      "text/plain": [
       "[0.9961810111999512, 0.7967782020568848]"
      ]
     },
     "execution_count": 8,
     "metadata": {},
     "output_type": "execute_result"
    }
   ],
   "source": [
    "# Testing the model in the fine tuning with transfer learning (100 epochs) and 50% dropout\n",
    "model = tf.keras.models.load_model(\"./TL_100_Dropout50/Outputs/garbage_classifier_RN_TL_100_dropout50_ft.h5\")\n",
    "model.evaluate(test_generator)"
   ]
  },
  {
   "cell_type": "code",
   "execution_count": null,
   "metadata": {},
   "outputs": [],
   "source": []
  }
 ],
 "metadata": {
  "kernelspec": {
   "display_name": "Python 3",
   "language": "python",
   "name": "python3"
  },
  "language_info": {
   "codemirror_mode": {
    "name": "ipython",
    "version": 3
   },
   "file_extension": ".py",
   "mimetype": "text/x-python",
   "name": "python",
   "nbconvert_exporter": "python",
   "pygments_lexer": "ipython3",
   "version": "3.8.3"
  }
 },
 "nbformat": 4,
 "nbformat_minor": 4
}
