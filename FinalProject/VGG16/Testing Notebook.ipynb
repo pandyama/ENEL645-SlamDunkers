{
 "cells": [
  {
   "cell_type": "code",
   "execution_count": 13,
   "metadata": {},
   "outputs": [],
   "source": [
    "import numpy as np\n",
    "import tensorflow as tf\n",
    "from tensorflow import keras\n",
    "import glob\n",
    "from tensorflow.keras import models\n",
    "from tensorflow.keras.preprocessing.image import ImageDataGenerator\n",
    "from tensorflow.keras.applications.vgg16 import preprocess_input\n",
    "import matplotlib.pylab as plt\n",
    "import pickle"
   ]
  },
  {
   "cell_type": "code",
   "execution_count": 14,
   "metadata": {},
   "outputs": [],
   "source": [
    "# Defining data generators and data augmentation parameters\n",
    "gen_params = {\"featurewise_center\":False,\\\n",
    "              \"samplewise_center\":False,\\\n",
    "              \"featurewise_std_normalization\":False, \\\n",
    "              \"samplewise_std_normalization\":False,\\\n",
    "              \"zca_whitening\":False, \\\n",
    "              \"rotation_range\":20, \\\n",
    "               \"width_shift_range\":0.1,   \\\n",
    "               \"height_shift_range\":0.1,  \\\n",
    "               \"shear_range\":0.2,            \\\n",
    "               \"zoom_range\":0.1,    \\\n",
    "               \"horizontal_flip\":True,   \\\n",
    "               \"vertical_flip\":True}"
   ]
  },
  {
   "cell_type": "code",
   "execution_count": 15,
   "metadata": {},
   "outputs": [],
   "source": [
    "class_names = [\"Black\", \"Blue\",  \"Green\", \"Take-to-recycle\"]\n",
    "bs = 64 # batch size"
   ]
  },
  {
   "cell_type": "code",
   "execution_count": 16,
   "metadata": {},
   "outputs": [
    {
     "name": "stdout",
     "output_type": "stream",
     "text": [
      "Found 807 images belonging to 4 classes.\n"
     ]
    }
   ],
   "source": [
    "\n",
    "test_gen = ImageDataGenerator(**gen_params, preprocessing_function = tf.keras.applications.vgg16.preprocess_input)\n",
    "\n",
    "test_generator = test_gen.flow_from_directory(\n",
    "    directory = \"Test_Images\",\n",
    "    target_size=(256, 256),\n",
    "    color_mode=\"rgb\",\n",
    "    classes= class_names,\n",
    "    class_mode=\"categorical\",\n",
    "    batch_size=bs,\n",
    "    shuffle=True,\n",
    "    seed=42,\n",
    "    interpolation=\"nearest\",\n",
    ")"
   ]
  },
  {
   "cell_type": "code",
   "execution_count": 20,
   "metadata": {},
   "outputs": [
    {
     "name": "stdout",
     "output_type": "stream",
     "text": [
      "Found 807 images belonging to 4 classes.\n"
     ]
    }
   ],
   "source": [
    "test_generator_without_imagenet = test_gen.flow_from_directory(\n",
    "    directory = \"Test_Images\",\n",
    "    target_size=(224, 224),\n",
    "    color_mode=\"rgb\",\n",
    "    classes= class_names,\n",
    "    class_mode=\"categorical\",\n",
    "    batch_size=bs,\n",
    "    shuffle=True,\n",
    "    seed=42,\n",
    "    interpolation=\"nearest\",\n",
    ")"
   ]
  },
  {
   "cell_type": "code",
   "execution_count": 17,
   "metadata": {},
   "outputs": [
    {
     "name": "stdout",
     "output_type": "stream",
     "text": [
      "13/13 [==============================] - 206s 16s/step - loss: 2.5811 - accuracy: 0.7088\n"
     ]
    },
    {
     "data": {
      "text/plain": [
       "[2.58111572265625, 0.7087979912757874]"
      ]
     },
     "execution_count": 17,
     "metadata": {},
     "output_type": "execute_result"
    }
   ],
   "source": [
    "# Testing the model in the initial training with transfer learning\n",
    "model = tf.keras.models.load_model(\"Output/garbage_classifier_vgg16_it.h5\")\n",
    "model.evaluate(test_generator)"
   ]
  },
  {
   "cell_type": "code",
   "execution_count": 18,
   "metadata": {},
   "outputs": [
    {
     "name": "stdout",
     "output_type": "stream",
     "text": [
      "13/13 [==============================] - 206s 16s/step - loss: 2.7593 - accuracy: 0.6939\n"
     ]
    },
    {
     "data": {
      "text/plain": [
       "[2.7592806816101074, 0.6939281225204468]"
      ]
     },
     "execution_count": 18,
     "metadata": {},
     "output_type": "execute_result"
    }
   ],
   "source": [
    "# Testing the model in the fine tuning with transfer learning\n",
    "model = tf.keras.models.load_model(\"Output/garbage_classifier_vgg16_ft.h5\")\n",
    "model.evaluate(test_generator)"
   ]
  },
  {
   "cell_type": "code",
   "execution_count": 21,
   "metadata": {},
   "outputs": [
    {
     "name": "stdout",
     "output_type": "stream",
     "text": [
      "13/13 [==============================] - 159s 12s/step - loss: 1.3845 - accuracy: 0.2577\n"
     ]
    },
    {
     "data": {
      "text/plain": [
       "[1.3845494985580444, 0.2577447295188904]"
      ]
     },
     "execution_count": 21,
     "metadata": {},
     "output_type": "execute_result"
    }
   ],
   "source": [
    "# Testing the model in the initial tuning without transfer learning\n",
    "model = tf.keras.models.load_model(\"Output/garbage_classifier_vgg16_withoutImagenet_it.h5\")\n",
    "model.evaluate(test_generator_without_imagenet)"
   ]
  },
  {
   "cell_type": "code",
   "execution_count": 22,
   "metadata": {},
   "outputs": [
    {
     "name": "stdout",
     "output_type": "stream",
     "text": [
      "13/13 [==============================] - 160s 12s/step - loss: 1.3845 - accuracy: 0.2577\n"
     ]
    },
    {
     "data": {
      "text/plain": [
       "[1.384549617767334, 0.2577447295188904]"
      ]
     },
     "execution_count": 22,
     "metadata": {},
     "output_type": "execute_result"
    }
   ],
   "source": [
    "# Testing the model in the fine tuning without transfer learning\n",
    "model = tf.keras.models.load_model(\"Output/garbage_classifier_vgg16_withoutImagenet_ft.h5\")\n",
    "model.evaluate(test_generator_without_imagenet)"
   ]
  },
  {
   "cell_type": "code",
   "execution_count": 23,
   "metadata": {},
   "outputs": [
    {
     "name": "stdout",
     "output_type": "stream",
     "text": [
      "13/13 [==============================] - 223s 17s/step - loss: 1.8988 - accuracy: 0.7447\n"
     ]
    },
    {
     "data": {
      "text/plain": [
       "[1.8987785577774048, 0.7447335720062256]"
      ]
     },
     "execution_count": 23,
     "metadata": {},
     "output_type": "execute_result"
    }
   ],
   "source": [
    "# Testing the model with using 50 epochs in the initial tuning with transfer learning\n",
    "model = tf.keras.models.load_model(\"Output/garbage_classifier_vgg16_50_epochs_it.h5\")\n",
    "model.evaluate(test_generator)"
   ]
  },
  {
   "cell_type": "code",
   "execution_count": 24,
   "metadata": {},
   "outputs": [
    {
     "name": "stdout",
     "output_type": "stream",
     "text": [
      "13/13 [==============================] - 226s 17s/step - loss: 2.4096 - accuracy: 0.7323\n"
     ]
    },
    {
     "data": {
      "text/plain": [
       "[2.4095561504364014, 0.732342004776001]"
      ]
     },
     "execution_count": 24,
     "metadata": {},
     "output_type": "execute_result"
    }
   ],
   "source": [
    "# Testing the model with using 50 epochs in the final tuning with transfer learning\n",
    "model = tf.keras.models.load_model(\"Output/garbage_classifier_vgg16_50_epochs_ft.h5\")\n",
    "model.evaluate(test_generator)"
   ]
  },
  {
   "cell_type": "code",
   "execution_count": 25,
   "metadata": {},
   "outputs": [
    {
     "name": "stdout",
     "output_type": "stream",
     "text": [
      "13/13 [==============================] - 223s 17s/step - loss: 2.3759 - accuracy: 0.7509\n"
     ]
    },
    {
     "data": {
      "text/plain": [
       "[2.375864267349243, 0.7509293556213379]"
      ]
     },
     "execution_count": 25,
     "metadata": {},
     "output_type": "execute_result"
    }
   ],
   "source": [
    "# Testing the model with using 50 epochs and a dropout layer in the initial tuning with transfer learning\n",
    "model = tf.keras.models.load_model(\"Output/garbage_classifier_vgg16_50_epochs_dropout_it.h5\")\n",
    "model.evaluate(test_generator)"
   ]
  },
  {
   "cell_type": "code",
   "execution_count": 26,
   "metadata": {},
   "outputs": [
    {
     "name": "stdout",
     "output_type": "stream",
     "text": [
      "13/13 [==============================] - 224s 17s/step - loss: 2.3353 - accuracy: 0.7447\n"
     ]
    },
    {
     "data": {
      "text/plain": [
       "[2.3352811336517334, 0.7447335720062256]"
      ]
     },
     "execution_count": 26,
     "metadata": {},
     "output_type": "execute_result"
    }
   ],
   "source": [
    "# Testing the model with using 50 epochs and a dropout layerin the final tuning with transfer learning\n",
    "model = tf.keras.models.load_model(\"Output/garbage_classifier_vgg16_50_epochs_dropout_ft.h5\")\n",
    "model.evaluate(test_generator)"
   ]
  }
 ],
 "metadata": {
  "kernelspec": {
   "display_name": "Python 3",
   "language": "python",
   "name": "python3"
  },
  "language_info": {
   "codemirror_mode": {
    "name": "ipython",
    "version": 3
   },
   "file_extension": ".py",
   "mimetype": "text/x-python",
   "name": "python",
   "nbconvert_exporter": "python",
   "pygments_lexer": "ipython3",
   "version": "3.8.8"
  }
 },
 "nbformat": 4,
 "nbformat_minor": 4
}
