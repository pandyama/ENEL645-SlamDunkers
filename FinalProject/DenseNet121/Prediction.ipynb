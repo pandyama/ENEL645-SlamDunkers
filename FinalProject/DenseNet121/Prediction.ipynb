{
  "cells": [
    {
      "cell_type": "code",
      "execution_count": 1,
      "metadata": {
        "id": "9Lyhuo5E2zC4"
      },
      "outputs": [],
      "source": [
        "import numpy as np\n",
        "import glob\n",
        "import tensorflow as tf\n",
        "from tensorflow import keras\n",
        "from tensorflow.keras.preprocessing.image import ImageDataGenerator\n",
        "from tensorflow.keras.applications import DenseNet121\n",
        "import matplotlib.pylab as plt\n",
        "import pandas as pd\n",
        "import pickle"
      ]
    },
    {
      "cell_type": "code",
      "execution_count": 2,
      "metadata": {
        "id": "OwKJgipy2zC6"
      },
      "outputs": [],
      "source": [
        "# Defining data generators and data augmentation parameters\n",
        "gen_params = {\"featurewise_center\":False,\\\n",
        "              \"samplewise_center\":False,\\\n",
        "              \"featurewise_std_normalization\":False, \\\n",
        "              \"samplewise_std_normalization\":False,\\\n",
        "              \"zca_whitening\":False, \\\n",
        "              \"rotation_range\":20, \\\n",
        "               \"width_shift_range\":0.1,   \\\n",
        "               \"height_shift_range\":0.1,  \\\n",
        "               \"shear_range\":0.2,            \\\n",
        "               \"zoom_range\":0.1,    \\\n",
        "               \"horizontal_flip\":True,   \\\n",
        "               \"vertical_flip\":True}"
      ]
    },
    {
      "cell_type": "code",
      "execution_count": 3,
      "metadata": {
        "id": "-HfrXtSI2zC7"
      },
      "outputs": [],
      "source": [
        "class_names = [\"Black\", \"Blue\",  \"Green\", \"Take-to-recycle\"]\n",
        "bs = 64 # batch size"
      ]
    },
    {
      "cell_type": "code",
      "execution_count": 4,
      "metadata": {
        "colab": {
          "base_uri": "https://localhost:8080/"
        },
        "id": "hADu_zXt2zC7",
        "outputId": "a8863990-4432-4327-ab3f-c2c974b89b9f"
      },
      "outputs": [
        {
          "output_type": "stream",
          "name": "stdout",
          "text": [
            "Found 807 images belonging to 4 classes.\n"
          ]
        }
      ],
      "source": [
        "test_gen = ImageDataGenerator(**gen_params, preprocessing_function = tf.keras.applications.densenet.preprocess_input)\n",
        "\n",
        "test_generator = test_gen.flow_from_directory(\n",
        "    directory = \"./sample_data/Test\",\n",
        "    target_size=(256, 256),\n",
        "    color_mode=\"rgb\",\n",
        "    classes= class_names,\n",
        "    class_mode=\"categorical\",\n",
        "    batch_size=bs,\n",
        "    shuffle=True,\n",
        "    seed=42,\n",
        "    interpolation=\"nearest\",\n",
        ")"
      ]
    },
    {
      "cell_type": "code",
      "execution_count": 5,
      "metadata": {
        "colab": {
          "base_uri": "https://localhost:8080/"
        },
        "id": "8aEmk9o72zC8",
        "outputId": "2495da23-85fb-4675-fccc-8bc83b9407f8"
      },
      "outputs": [
        {
          "output_type": "stream",
          "name": "stdout",
          "text": [
            "13/13 [==============================] - 138s 10s/step - loss: 0.4616 - accuracy: 0.8166\n"
          ]
        },
        {
          "output_type": "execute_result",
          "data": {
            "text/plain": [
              "[0.4616479277610779, 0.816604733467102]"
            ]
          },
          "metadata": {},
          "execution_count": 5
        }
      ],
      "source": [
        "# Testing the model in the initial training with transfer learning (10 epochs)\n",
        "model = tf.keras.models.load_model(\"garbage_classifier_en_b0_it.h5\")\n",
        "model.evaluate(test_generator)"
      ]
    },
    {
      "cell_type": "code",
      "execution_count": 6,
      "metadata": {
        "colab": {
          "base_uri": "https://localhost:8080/"
        },
        "id": "H50ykPeq2zC9",
        "outputId": "e0f91a19-1ef8-4855-ce7a-28288d4c73af"
      },
      "outputs": [
        {
          "output_type": "stream",
          "name": "stdout",
          "text": [
            "13/13 [==============================] - 136s 10s/step - loss: 0.4563 - accuracy: 0.8216\n"
          ]
        },
        {
          "output_type": "execute_result",
          "data": {
            "text/plain": [
              "[0.45631828904151917, 0.821561336517334]"
            ]
          },
          "metadata": {},
          "execution_count": 6
        }
      ],
      "source": [
        "# Testing the model in the fine tuning with transfer learning (10 epochs)\n",
        "model = tf.keras.models.load_model(\"./garbage_classifier_en_b0_ft.h5\")\n",
        "model.evaluate(test_generator)"
      ]
    }
  ],
  "metadata": {
    "kernelspec": {
      "display_name": "Python 3",
      "language": "python",
      "name": "python3"
    },
    "language_info": {
      "codemirror_mode": {
        "name": "ipython",
        "version": 3
      },
      "file_extension": ".py",
      "mimetype": "text/x-python",
      "name": "python",
      "nbconvert_exporter": "python",
      "pygments_lexer": "ipython3",
      "version": "3.8.3"
    },
    "colab": {
      "name": "Prediction.ipynb",
      "provenance": []
    }
  },
  "nbformat": 4,
  "nbformat_minor": 0
}