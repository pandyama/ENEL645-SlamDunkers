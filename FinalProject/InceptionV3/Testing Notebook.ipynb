{
 "cells": [
  {
   "cell_type": "code",
   "execution_count": 1,
   "metadata": {},
   "outputs": [],
   "source": [
    "import numpy as np\n",
    "import glob\n",
    "import tensorflow as tf\n",
    "from tensorflow import keras\n",
    "from tensorflow.keras.preprocessing.image import ImageDataGenerator\n",
    "from tensorflow.keras.applications import InceptionV3\n",
    "import matplotlib.pylab as plt\n",
    "import pandas as pd\n",
    "import pickle"
   ]
  },
  {
   "cell_type": "code",
   "execution_count": 2,
   "metadata": {},
   "outputs": [],
   "source": [
    "# Defining data generators and data augmentation parameters\n",
    "gen_params = {\"featurewise_center\":False,\\\n",
    "              \"samplewise_center\":False,\\\n",
    "              \"featurewise_std_normalization\":False, \\\n",
    "              \"samplewise_std_normalization\":False,\\\n",
    "              \"zca_whitening\":False, \\\n",
    "              \"rotation_range\":20, \\\n",
    "               \"width_shift_range\":0.1,   \\\n",
    "               \"height_shift_range\":0.1,  \\\n",
    "               \"shear_range\":0.2,            \\\n",
    "               \"zoom_range\":0.1,    \\\n",
    "               \"horizontal_flip\":True,   \\\n",
    "               \"vertical_flip\":True}"
   ]
  },
  {
   "cell_type": "code",
   "execution_count": 3,
   "metadata": {},
   "outputs": [],
   "source": [
    "class_names = [\"Black\", \"Blue\",  \"Green\", \"Take-to-recycle\"]\n",
    "bs = 64 # batch size"
   ]
  },
  {
   "cell_type": "code",
   "execution_count": 4,
   "metadata": {},
   "outputs": [
    {
     "name": "stdout",
     "output_type": "stream",
     "text": [
      "Found 807 images belonging to 4 classes.\n"
     ]
    }
   ],
   "source": [
    "test_gen = ImageDataGenerator(**gen_params, preprocessing_function = tf.keras.applications.inception_v3.preprocess_input)\n",
    "\n",
    "test_generator = test_gen.flow_from_directory(\n",
    "    directory = \"../Test\",\n",
    "    target_size=(256, 256),\n",
    "    color_mode=\"rgb\",\n",
    "    classes= class_names,\n",
    "    class_mode=\"categorical\",\n",
    "    batch_size=bs,\n",
    "    shuffle=True,\n",
    "    seed=42,\n",
    "    interpolation=\"nearest\",\n",
    ")"
   ]
  },
  {
   "cell_type": "code",
   "execution_count": 5,
   "metadata": {},
   "outputs": [
    {
     "name": "stdout",
     "output_type": "stream",
     "text": [
      "13/13 [==============================] - 38s 3s/step - loss: 0.6401 - accuracy: 0.7670\n"
     ]
    },
    {
     "data": {
      "text/plain": [
       "[0.6401421427726746, 0.7670384049415588]"
      ]
     },
     "execution_count": 5,
     "metadata": {},
     "output_type": "execute_result"
    }
   ],
   "source": [
    "# Testing the model in the initial training with transfer learning\n",
    "model = tf.keras.models.load_model(\"./garbage_classifier_inception_v3_it.h5\")\n",
    "model.evaluate(test_generator)"
   ]
  },
  {
   "cell_type": "code",
   "execution_count": 6,
   "metadata": {},
   "outputs": [
    {
     "name": "stdout",
     "output_type": "stream",
     "text": [
      "13/13 [==============================] - 43s 3s/step - loss: 0.7064 - accuracy: 0.7596\n"
     ]
    },
    {
     "data": {
      "text/plain": [
       "[0.7064164280891418, 0.7596034407615662]"
      ]
     },
     "execution_count": 6,
     "metadata": {},
     "output_type": "execute_result"
    }
   ],
   "source": [
    "# Testing the model in the fine tuning with transfer learning\n",
    "model = tf.keras.models.load_model(\"./garbage_classifier_inception_v3_ft.h5\")\n",
    "model.evaluate(test_generator)"
   ]
  },
  {
   "cell_type": "code",
   "execution_count": 7,
   "metadata": {},
   "outputs": [
    {
     "name": "stdout",
     "output_type": "stream",
     "text": [
      "13/13 [==============================] - 60s 4s/step - loss: 1.2571 - accuracy: 0.5390\n"
     ]
    },
    {
     "data": {
      "text/plain": [
       "[1.2571274042129517, 0.5390334725379944]"
      ]
     },
     "execution_count": 7,
     "metadata": {},
     "output_type": "execute_result"
    }
   ],
   "source": [
    "# Testing the model in the initial tuning without transfer learning\n",
    "model = tf.keras.models.load_model(\"./garbage_classifier_inception_v3_it_complete.h5\")\n",
    "model.evaluate(test_generator)"
   ]
  },
  {
   "cell_type": "code",
   "execution_count": 8,
   "metadata": {},
   "outputs": [
    {
     "name": "stdout",
     "output_type": "stream",
     "text": [
      "13/13 [==============================] - 65s 5s/step - loss: 1.2575 - accuracy: 0.5440\n"
     ]
    },
    {
     "data": {
      "text/plain": [
       "[1.2575254440307617, 0.5439900755882263]"
      ]
     },
     "execution_count": 8,
     "metadata": {},
     "output_type": "execute_result"
    }
   ],
   "source": [
    "# Testing the model in the fine tuning without transfer learning\n",
    "model = tf.keras.models.load_model(\"./garbage_classifier_inception_v3_ft_complete.h5\")\n",
    "model.evaluate(test_generator)"
   ]
  },
  {
   "cell_type": "code",
   "execution_count": 9,
   "metadata": {},
   "outputs": [
    {
     "name": "stdout",
     "output_type": "stream",
     "text": [
      "13/13 [==============================] - 40s 3s/step - loss: 0.6249 - accuracy: 0.7745\n"
     ]
    },
    {
     "data": {
      "text/plain": [
       "[0.6249467730522156, 0.7744733691215515]"
      ]
     },
     "execution_count": 9,
     "metadata": {},
     "output_type": "execute_result"
    }
   ],
   "source": [
    "# Testing the model with a dropout layer in the initial tuning with transfer learning\n",
    "model = tf.keras.models.load_model(\"./garbage_classifier_inception_v3_it_dropout.h5\")\n",
    "model.evaluate(test_generator)"
   ]
  },
  {
   "cell_type": "code",
   "execution_count": 10,
   "metadata": {},
   "outputs": [
    {
     "name": "stdout",
     "output_type": "stream",
     "text": [
      "13/13 [==============================] - 43s 3s/step - loss: 0.6077 - accuracy: 0.7782\n"
     ]
    },
    {
     "data": {
      "text/plain": [
       "[0.6077405214309692, 0.7781908512115479]"
      ]
     },
     "execution_count": 10,
     "metadata": {},
     "output_type": "execute_result"
    }
   ],
   "source": [
    "# Testing the model with a dropout layer in the fine tuning with transfer learning\n",
    "model = tf.keras.models.load_model(\"./garbage_classifier_inception_v3_ft_dropout.h5\")\n",
    "model.evaluate(test_generator)"
   ]
  }
 ],
 "metadata": {
  "kernelspec": {
   "display_name": "Python 3",
   "language": "python",
   "name": "python3"
  },
  "language_info": {
   "codemirror_mode": {
    "name": "ipython",
    "version": 3
   },
   "file_extension": ".py",
   "mimetype": "text/x-python",
   "name": "python",
   "nbconvert_exporter": "python",
   "pygments_lexer": "ipython3",
   "version": "3.8.12"
  }
 },
 "nbformat": 4,
 "nbformat_minor": 4
}
